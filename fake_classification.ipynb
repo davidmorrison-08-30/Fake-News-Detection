{
  "nbformat": 4,
  "nbformat_minor": 0,
  "metadata": {
    "colab": {
      "provenance": [],
      "collapsed_sections": [
        "hVCmhqsOF8n2",
        "u7-hCsxwa_6y",
        "C78ethMAIc9c",
        "MMOJOfnuJPLC",
        "GGo25ksCLLu9",
        "Qdb6a_ZXOc2T",
        "45kCoCwHO7Z7",
        "YFBouekwPJnJ",
        "tETRfju8Pd15"
      ],
      "gpuType": "T4"
    },
    "kernelspec": {
      "name": "python3",
      "display_name": "Python 3"
    },
    "language_info": {
      "name": "python"
    },
    "accelerator": "GPU"
  },
  "cells": [
    {
      "cell_type": "markdown",
      "source": [
        "# **IMPORT NECESSARY LIBRARIES**"
      ],
      "metadata": {
        "id": "hVCmhqsOF8n2"
      }
    },
    {
      "cell_type": "code",
      "execution_count": 1,
      "metadata": {
        "id": "uL2jNMZuFPvy"
      },
      "outputs": [],
      "source": [
        "import pandas as pd\n",
        "import numpy as np\n",
        "from google.colab import drive\n",
        "import spacy\n",
        "from sklearn.model_selection import train_test_split\n",
        "from sklearn.preprocessing import MinMaxScaler\n",
        "from sklearn.metrics import confusion_matrix,classification_report\n",
        "from sklearn.pipeline import make_pipeline\n",
        "from sklearn.naive_bayes import MultinomialNB\n",
        "from sklearn.tree import DecisionTreeClassifier\n",
        "from sklearn.neighbors import KNeighborsClassifier\n",
        "from sklearn.linear_model import LogisticRegression\n",
        "from sklearn.svm import SVC"
      ]
    },
    {
      "cell_type": "code",
      "execution_count": 2,
      "metadata": {
        "colab": {
          "base_uri": "https://localhost:8080/"
        },
        "id": "5xKgQx-yCEVl",
        "outputId": "56dfcb1c-8fac-4e66-90eb-e63f8e12fd40"
      },
      "outputs": [
        {
          "output_type": "stream",
          "name": "stdout",
          "text": [
            "Mounted at /content/gdrive\n"
          ]
        }
      ],
      "source": [
        "drive.mount('/content/gdrive')"
      ]
    },
    {
      "cell_type": "markdown",
      "source": [
        "# **LOAD DATASET**"
      ],
      "metadata": {
        "id": "jNlpl7lQHihi"
      }
    },
    {
      "cell_type": "code",
      "source": [
        "real_data = pd.read_csv(\"gdrive/My Drive/Colab Notebooks/Fake_news_classification/True.csv\")\n",
        "fake_data = pd.read_csv(\"gdrive/My Drive/Colab Notebooks/Fake_news_classification/Fake.csv\")\n",
        "\n",
        "print(\"Real's shape: \", real_data.shape,\"\\nFake's shape: \", fake_data.shape) ## datasets seem to be balanced. NO imbalance"
      ],
      "metadata": {
        "colab": {
          "base_uri": "https://localhost:8080/"
        },
        "id": "NNvCgej3GJJ8",
        "outputId": "005e4817-adf0-4275-895a-5a325e5845f4"
      },
      "execution_count": 3,
      "outputs": [
        {
          "output_type": "stream",
          "name": "stdout",
          "text": [
            "Real's shape:  (21417, 4) \n",
            "Fake's shape:  (23481, 4)\n"
          ]
        }
      ]
    },
    {
      "cell_type": "code",
      "source": [
        "real_data.head()"
      ],
      "metadata": {
        "colab": {
          "base_uri": "https://localhost:8080/",
          "height": 206
        },
        "id": "8JZ5TRgUGkEc",
        "outputId": "a44ca06b-b3b0-4e12-a313-22e2a18d9dca"
      },
      "execution_count": 4,
      "outputs": [
        {
          "output_type": "execute_result",
          "data": {
            "text/plain": [
              "                                               title  \\\n",
              "0  As U.S. budget fight looms, Republicans flip t...   \n",
              "1  U.S. military to accept transgender recruits o...   \n",
              "2  Senior U.S. Republican senator: 'Let Mr. Muell...   \n",
              "3  FBI Russia probe helped by Australian diplomat...   \n",
              "4  Trump wants Postal Service to charge 'much mor...   \n",
              "\n",
              "                                                text       subject  \\\n",
              "0  WASHINGTON (Reuters) - The head of a conservat...  politicsNews   \n",
              "1  WASHINGTON (Reuters) - Transgender people will...  politicsNews   \n",
              "2  WASHINGTON (Reuters) - The special counsel inv...  politicsNews   \n",
              "3  WASHINGTON (Reuters) - Trump campaign adviser ...  politicsNews   \n",
              "4  SEATTLE/WASHINGTON (Reuters) - President Donal...  politicsNews   \n",
              "\n",
              "                 date  \n",
              "0  December 31, 2017   \n",
              "1  December 29, 2017   \n",
              "2  December 31, 2017   \n",
              "3  December 30, 2017   \n",
              "4  December 29, 2017   "
            ],
            "text/html": [
              "\n",
              "\n",
              "  <div id=\"df-93950370-833d-4a7f-9b61-cb66f80a26ee\">\n",
              "    <div class=\"colab-df-container\">\n",
              "      <div>\n",
              "<style scoped>\n",
              "    .dataframe tbody tr th:only-of-type {\n",
              "        vertical-align: middle;\n",
              "    }\n",
              "\n",
              "    .dataframe tbody tr th {\n",
              "        vertical-align: top;\n",
              "    }\n",
              "\n",
              "    .dataframe thead th {\n",
              "        text-align: right;\n",
              "    }\n",
              "</style>\n",
              "<table border=\"1\" class=\"dataframe\">\n",
              "  <thead>\n",
              "    <tr style=\"text-align: right;\">\n",
              "      <th></th>\n",
              "      <th>title</th>\n",
              "      <th>text</th>\n",
              "      <th>subject</th>\n",
              "      <th>date</th>\n",
              "    </tr>\n",
              "  </thead>\n",
              "  <tbody>\n",
              "    <tr>\n",
              "      <th>0</th>\n",
              "      <td>As U.S. budget fight looms, Republicans flip t...</td>\n",
              "      <td>WASHINGTON (Reuters) - The head of a conservat...</td>\n",
              "      <td>politicsNews</td>\n",
              "      <td>December 31, 2017</td>\n",
              "    </tr>\n",
              "    <tr>\n",
              "      <th>1</th>\n",
              "      <td>U.S. military to accept transgender recruits o...</td>\n",
              "      <td>WASHINGTON (Reuters) - Transgender people will...</td>\n",
              "      <td>politicsNews</td>\n",
              "      <td>December 29, 2017</td>\n",
              "    </tr>\n",
              "    <tr>\n",
              "      <th>2</th>\n",
              "      <td>Senior U.S. Republican senator: 'Let Mr. Muell...</td>\n",
              "      <td>WASHINGTON (Reuters) - The special counsel inv...</td>\n",
              "      <td>politicsNews</td>\n",
              "      <td>December 31, 2017</td>\n",
              "    </tr>\n",
              "    <tr>\n",
              "      <th>3</th>\n",
              "      <td>FBI Russia probe helped by Australian diplomat...</td>\n",
              "      <td>WASHINGTON (Reuters) - Trump campaign adviser ...</td>\n",
              "      <td>politicsNews</td>\n",
              "      <td>December 30, 2017</td>\n",
              "    </tr>\n",
              "    <tr>\n",
              "      <th>4</th>\n",
              "      <td>Trump wants Postal Service to charge 'much mor...</td>\n",
              "      <td>SEATTLE/WASHINGTON (Reuters) - President Donal...</td>\n",
              "      <td>politicsNews</td>\n",
              "      <td>December 29, 2017</td>\n",
              "    </tr>\n",
              "  </tbody>\n",
              "</table>\n",
              "</div>\n",
              "      <button class=\"colab-df-convert\" onclick=\"convertToInteractive('df-93950370-833d-4a7f-9b61-cb66f80a26ee')\"\n",
              "              title=\"Convert this dataframe to an interactive table.\"\n",
              "              style=\"display:none;\">\n",
              "\n",
              "  <svg xmlns=\"http://www.w3.org/2000/svg\" height=\"24px\"viewBox=\"0 0 24 24\"\n",
              "       width=\"24px\">\n",
              "    <path d=\"M0 0h24v24H0V0z\" fill=\"none\"/>\n",
              "    <path d=\"M18.56 5.44l.94 2.06.94-2.06 2.06-.94-2.06-.94-.94-2.06-.94 2.06-2.06.94zm-11 1L8.5 8.5l.94-2.06 2.06-.94-2.06-.94L8.5 2.5l-.94 2.06-2.06.94zm10 10l.94 2.06.94-2.06 2.06-.94-2.06-.94-.94-2.06-.94 2.06-2.06.94z\"/><path d=\"M17.41 7.96l-1.37-1.37c-.4-.4-.92-.59-1.43-.59-.52 0-1.04.2-1.43.59L10.3 9.45l-7.72 7.72c-.78.78-.78 2.05 0 2.83L4 21.41c.39.39.9.59 1.41.59.51 0 1.02-.2 1.41-.59l7.78-7.78 2.81-2.81c.8-.78.8-2.07 0-2.86zM5.41 20L4 18.59l7.72-7.72 1.47 1.35L5.41 20z\"/>\n",
              "  </svg>\n",
              "      </button>\n",
              "\n",
              "\n",
              "\n",
              "    <div id=\"df-533e3849-63f9-4741-bd1f-40048770f08d\">\n",
              "      <button class=\"colab-df-quickchart\" onclick=\"quickchart('df-533e3849-63f9-4741-bd1f-40048770f08d')\"\n",
              "              title=\"Suggest charts.\"\n",
              "              style=\"display:none;\">\n",
              "\n",
              "<svg xmlns=\"http://www.w3.org/2000/svg\" height=\"24px\"viewBox=\"0 0 24 24\"\n",
              "     width=\"24px\">\n",
              "    <g>\n",
              "        <path d=\"M19 3H5c-1.1 0-2 .9-2 2v14c0 1.1.9 2 2 2h14c1.1 0 2-.9 2-2V5c0-1.1-.9-2-2-2zM9 17H7v-7h2v7zm4 0h-2V7h2v10zm4 0h-2v-4h2v4z\"/>\n",
              "    </g>\n",
              "</svg>\n",
              "      </button>\n",
              "    </div>\n",
              "\n",
              "<style>\n",
              "  .colab-df-quickchart {\n",
              "    background-color: #E8F0FE;\n",
              "    border: none;\n",
              "    border-radius: 50%;\n",
              "    cursor: pointer;\n",
              "    display: none;\n",
              "    fill: #1967D2;\n",
              "    height: 32px;\n",
              "    padding: 0 0 0 0;\n",
              "    width: 32px;\n",
              "  }\n",
              "\n",
              "  .colab-df-quickchart:hover {\n",
              "    background-color: #E2EBFA;\n",
              "    box-shadow: 0px 1px 2px rgba(60, 64, 67, 0.3), 0px 1px 3px 1px rgba(60, 64, 67, 0.15);\n",
              "    fill: #174EA6;\n",
              "  }\n",
              "\n",
              "  [theme=dark] .colab-df-quickchart {\n",
              "    background-color: #3B4455;\n",
              "    fill: #D2E3FC;\n",
              "  }\n",
              "\n",
              "  [theme=dark] .colab-df-quickchart:hover {\n",
              "    background-color: #434B5C;\n",
              "    box-shadow: 0px 1px 3px 1px rgba(0, 0, 0, 0.15);\n",
              "    filter: drop-shadow(0px 1px 2px rgba(0, 0, 0, 0.3));\n",
              "    fill: #FFFFFF;\n",
              "  }\n",
              "</style>\n",
              "\n",
              "    <script>\n",
              "      async function quickchart(key) {\n",
              "        const containerElement = document.querySelector('#' + key);\n",
              "        const charts = await google.colab.kernel.invokeFunction(\n",
              "            'suggestCharts', [key], {});\n",
              "      }\n",
              "    </script>\n",
              "\n",
              "      <script>\n",
              "\n",
              "function displayQuickchartButton(domScope) {\n",
              "  let quickchartButtonEl =\n",
              "    domScope.querySelector('#df-533e3849-63f9-4741-bd1f-40048770f08d button.colab-df-quickchart');\n",
              "  quickchartButtonEl.style.display =\n",
              "    google.colab.kernel.accessAllowed ? 'block' : 'none';\n",
              "}\n",
              "\n",
              "        displayQuickchartButton(document);\n",
              "      </script>\n",
              "      <style>\n",
              "    .colab-df-container {\n",
              "      display:flex;\n",
              "      flex-wrap:wrap;\n",
              "      gap: 12px;\n",
              "    }\n",
              "\n",
              "    .colab-df-convert {\n",
              "      background-color: #E8F0FE;\n",
              "      border: none;\n",
              "      border-radius: 50%;\n",
              "      cursor: pointer;\n",
              "      display: none;\n",
              "      fill: #1967D2;\n",
              "      height: 32px;\n",
              "      padding: 0 0 0 0;\n",
              "      width: 32px;\n",
              "    }\n",
              "\n",
              "    .colab-df-convert:hover {\n",
              "      background-color: #E2EBFA;\n",
              "      box-shadow: 0px 1px 2px rgba(60, 64, 67, 0.3), 0px 1px 3px 1px rgba(60, 64, 67, 0.15);\n",
              "      fill: #174EA6;\n",
              "    }\n",
              "\n",
              "    [theme=dark] .colab-df-convert {\n",
              "      background-color: #3B4455;\n",
              "      fill: #D2E3FC;\n",
              "    }\n",
              "\n",
              "    [theme=dark] .colab-df-convert:hover {\n",
              "      background-color: #434B5C;\n",
              "      box-shadow: 0px 1px 3px 1px rgba(0, 0, 0, 0.15);\n",
              "      filter: drop-shadow(0px 1px 2px rgba(0, 0, 0, 0.3));\n",
              "      fill: #FFFFFF;\n",
              "    }\n",
              "  </style>\n",
              "\n",
              "      <script>\n",
              "        const buttonEl =\n",
              "          document.querySelector('#df-93950370-833d-4a7f-9b61-cb66f80a26ee button.colab-df-convert');\n",
              "        buttonEl.style.display =\n",
              "          google.colab.kernel.accessAllowed ? 'block' : 'none';\n",
              "\n",
              "        async function convertToInteractive(key) {\n",
              "          const element = document.querySelector('#df-93950370-833d-4a7f-9b61-cb66f80a26ee');\n",
              "          const dataTable =\n",
              "            await google.colab.kernel.invokeFunction('convertToInteractive',\n",
              "                                                     [key], {});\n",
              "          if (!dataTable) return;\n",
              "\n",
              "          const docLinkHtml = 'Like what you see? Visit the ' +\n",
              "            '<a target=\"_blank\" href=https://colab.research.google.com/notebooks/data_table.ipynb>data table notebook</a>'\n",
              "            + ' to learn more about interactive tables.';\n",
              "          element.innerHTML = '';\n",
              "          dataTable['output_type'] = 'display_data';\n",
              "          await google.colab.output.renderOutput(dataTable, element);\n",
              "          const docLink = document.createElement('div');\n",
              "          docLink.innerHTML = docLinkHtml;\n",
              "          element.appendChild(docLink);\n",
              "        }\n",
              "      </script>\n",
              "    </div>\n",
              "  </div>\n"
            ]
          },
          "metadata": {},
          "execution_count": 4
        }
      ]
    },
    {
      "cell_type": "code",
      "source": [
        "fake_data.head()"
      ],
      "metadata": {
        "colab": {
          "base_uri": "https://localhost:8080/",
          "height": 206
        },
        "id": "MYnkNN5GGmGO",
        "outputId": "6f4c7e42-2f9b-4b6a-ad34-616f62875b4d"
      },
      "execution_count": 5,
      "outputs": [
        {
          "output_type": "execute_result",
          "data": {
            "text/plain": [
              "                                               title  \\\n",
              "0   Donald Trump Sends Out Embarrassing New Year’...   \n",
              "1   Drunk Bragging Trump Staffer Started Russian ...   \n",
              "2   Sheriff David Clarke Becomes An Internet Joke...   \n",
              "3   Trump Is So Obsessed He Even Has Obama’s Name...   \n",
              "4   Pope Francis Just Called Out Donald Trump Dur...   \n",
              "\n",
              "                                                text subject  \\\n",
              "0  Donald Trump just couldn t wish all Americans ...    News   \n",
              "1  House Intelligence Committee Chairman Devin Nu...    News   \n",
              "2  On Friday, it was revealed that former Milwauk...    News   \n",
              "3  On Christmas day, Donald Trump announced that ...    News   \n",
              "4  Pope Francis used his annual Christmas Day mes...    News   \n",
              "\n",
              "                date  \n",
              "0  December 31, 2017  \n",
              "1  December 31, 2017  \n",
              "2  December 30, 2017  \n",
              "3  December 29, 2017  \n",
              "4  December 25, 2017  "
            ],
            "text/html": [
              "\n",
              "\n",
              "  <div id=\"df-cbdea91c-5b50-4a4c-8e2c-71a37c925990\">\n",
              "    <div class=\"colab-df-container\">\n",
              "      <div>\n",
              "<style scoped>\n",
              "    .dataframe tbody tr th:only-of-type {\n",
              "        vertical-align: middle;\n",
              "    }\n",
              "\n",
              "    .dataframe tbody tr th {\n",
              "        vertical-align: top;\n",
              "    }\n",
              "\n",
              "    .dataframe thead th {\n",
              "        text-align: right;\n",
              "    }\n",
              "</style>\n",
              "<table border=\"1\" class=\"dataframe\">\n",
              "  <thead>\n",
              "    <tr style=\"text-align: right;\">\n",
              "      <th></th>\n",
              "      <th>title</th>\n",
              "      <th>text</th>\n",
              "      <th>subject</th>\n",
              "      <th>date</th>\n",
              "    </tr>\n",
              "  </thead>\n",
              "  <tbody>\n",
              "    <tr>\n",
              "      <th>0</th>\n",
              "      <td>Donald Trump Sends Out Embarrassing New Year’...</td>\n",
              "      <td>Donald Trump just couldn t wish all Americans ...</td>\n",
              "      <td>News</td>\n",
              "      <td>December 31, 2017</td>\n",
              "    </tr>\n",
              "    <tr>\n",
              "      <th>1</th>\n",
              "      <td>Drunk Bragging Trump Staffer Started Russian ...</td>\n",
              "      <td>House Intelligence Committee Chairman Devin Nu...</td>\n",
              "      <td>News</td>\n",
              "      <td>December 31, 2017</td>\n",
              "    </tr>\n",
              "    <tr>\n",
              "      <th>2</th>\n",
              "      <td>Sheriff David Clarke Becomes An Internet Joke...</td>\n",
              "      <td>On Friday, it was revealed that former Milwauk...</td>\n",
              "      <td>News</td>\n",
              "      <td>December 30, 2017</td>\n",
              "    </tr>\n",
              "    <tr>\n",
              "      <th>3</th>\n",
              "      <td>Trump Is So Obsessed He Even Has Obama’s Name...</td>\n",
              "      <td>On Christmas day, Donald Trump announced that ...</td>\n",
              "      <td>News</td>\n",
              "      <td>December 29, 2017</td>\n",
              "    </tr>\n",
              "    <tr>\n",
              "      <th>4</th>\n",
              "      <td>Pope Francis Just Called Out Donald Trump Dur...</td>\n",
              "      <td>Pope Francis used his annual Christmas Day mes...</td>\n",
              "      <td>News</td>\n",
              "      <td>December 25, 2017</td>\n",
              "    </tr>\n",
              "  </tbody>\n",
              "</table>\n",
              "</div>\n",
              "      <button class=\"colab-df-convert\" onclick=\"convertToInteractive('df-cbdea91c-5b50-4a4c-8e2c-71a37c925990')\"\n",
              "              title=\"Convert this dataframe to an interactive table.\"\n",
              "              style=\"display:none;\">\n",
              "\n",
              "  <svg xmlns=\"http://www.w3.org/2000/svg\" height=\"24px\"viewBox=\"0 0 24 24\"\n",
              "       width=\"24px\">\n",
              "    <path d=\"M0 0h24v24H0V0z\" fill=\"none\"/>\n",
              "    <path d=\"M18.56 5.44l.94 2.06.94-2.06 2.06-.94-2.06-.94-.94-2.06-.94 2.06-2.06.94zm-11 1L8.5 8.5l.94-2.06 2.06-.94-2.06-.94L8.5 2.5l-.94 2.06-2.06.94zm10 10l.94 2.06.94-2.06 2.06-.94-2.06-.94-.94-2.06-.94 2.06-2.06.94z\"/><path d=\"M17.41 7.96l-1.37-1.37c-.4-.4-.92-.59-1.43-.59-.52 0-1.04.2-1.43.59L10.3 9.45l-7.72 7.72c-.78.78-.78 2.05 0 2.83L4 21.41c.39.39.9.59 1.41.59.51 0 1.02-.2 1.41-.59l7.78-7.78 2.81-2.81c.8-.78.8-2.07 0-2.86zM5.41 20L4 18.59l7.72-7.72 1.47 1.35L5.41 20z\"/>\n",
              "  </svg>\n",
              "      </button>\n",
              "\n",
              "\n",
              "\n",
              "    <div id=\"df-33bbe212-dbf8-444c-b6ff-51a2ee3b9b50\">\n",
              "      <button class=\"colab-df-quickchart\" onclick=\"quickchart('df-33bbe212-dbf8-444c-b6ff-51a2ee3b9b50')\"\n",
              "              title=\"Suggest charts.\"\n",
              "              style=\"display:none;\">\n",
              "\n",
              "<svg xmlns=\"http://www.w3.org/2000/svg\" height=\"24px\"viewBox=\"0 0 24 24\"\n",
              "     width=\"24px\">\n",
              "    <g>\n",
              "        <path d=\"M19 3H5c-1.1 0-2 .9-2 2v14c0 1.1.9 2 2 2h14c1.1 0 2-.9 2-2V5c0-1.1-.9-2-2-2zM9 17H7v-7h2v7zm4 0h-2V7h2v10zm4 0h-2v-4h2v4z\"/>\n",
              "    </g>\n",
              "</svg>\n",
              "      </button>\n",
              "    </div>\n",
              "\n",
              "<style>\n",
              "  .colab-df-quickchart {\n",
              "    background-color: #E8F0FE;\n",
              "    border: none;\n",
              "    border-radius: 50%;\n",
              "    cursor: pointer;\n",
              "    display: none;\n",
              "    fill: #1967D2;\n",
              "    height: 32px;\n",
              "    padding: 0 0 0 0;\n",
              "    width: 32px;\n",
              "  }\n",
              "\n",
              "  .colab-df-quickchart:hover {\n",
              "    background-color: #E2EBFA;\n",
              "    box-shadow: 0px 1px 2px rgba(60, 64, 67, 0.3), 0px 1px 3px 1px rgba(60, 64, 67, 0.15);\n",
              "    fill: #174EA6;\n",
              "  }\n",
              "\n",
              "  [theme=dark] .colab-df-quickchart {\n",
              "    background-color: #3B4455;\n",
              "    fill: #D2E3FC;\n",
              "  }\n",
              "\n",
              "  [theme=dark] .colab-df-quickchart:hover {\n",
              "    background-color: #434B5C;\n",
              "    box-shadow: 0px 1px 3px 1px rgba(0, 0, 0, 0.15);\n",
              "    filter: drop-shadow(0px 1px 2px rgba(0, 0, 0, 0.3));\n",
              "    fill: #FFFFFF;\n",
              "  }\n",
              "</style>\n",
              "\n",
              "    <script>\n",
              "      async function quickchart(key) {\n",
              "        const containerElement = document.querySelector('#' + key);\n",
              "        const charts = await google.colab.kernel.invokeFunction(\n",
              "            'suggestCharts', [key], {});\n",
              "      }\n",
              "    </script>\n",
              "\n",
              "      <script>\n",
              "\n",
              "function displayQuickchartButton(domScope) {\n",
              "  let quickchartButtonEl =\n",
              "    domScope.querySelector('#df-33bbe212-dbf8-444c-b6ff-51a2ee3b9b50 button.colab-df-quickchart');\n",
              "  quickchartButtonEl.style.display =\n",
              "    google.colab.kernel.accessAllowed ? 'block' : 'none';\n",
              "}\n",
              "\n",
              "        displayQuickchartButton(document);\n",
              "      </script>\n",
              "      <style>\n",
              "    .colab-df-container {\n",
              "      display:flex;\n",
              "      flex-wrap:wrap;\n",
              "      gap: 12px;\n",
              "    }\n",
              "\n",
              "    .colab-df-convert {\n",
              "      background-color: #E8F0FE;\n",
              "      border: none;\n",
              "      border-radius: 50%;\n",
              "      cursor: pointer;\n",
              "      display: none;\n",
              "      fill: #1967D2;\n",
              "      height: 32px;\n",
              "      padding: 0 0 0 0;\n",
              "      width: 32px;\n",
              "    }\n",
              "\n",
              "    .colab-df-convert:hover {\n",
              "      background-color: #E2EBFA;\n",
              "      box-shadow: 0px 1px 2px rgba(60, 64, 67, 0.3), 0px 1px 3px 1px rgba(60, 64, 67, 0.15);\n",
              "      fill: #174EA6;\n",
              "    }\n",
              "\n",
              "    [theme=dark] .colab-df-convert {\n",
              "      background-color: #3B4455;\n",
              "      fill: #D2E3FC;\n",
              "    }\n",
              "\n",
              "    [theme=dark] .colab-df-convert:hover {\n",
              "      background-color: #434B5C;\n",
              "      box-shadow: 0px 1px 3px 1px rgba(0, 0, 0, 0.15);\n",
              "      filter: drop-shadow(0px 1px 2px rgba(0, 0, 0, 0.3));\n",
              "      fill: #FFFFFF;\n",
              "    }\n",
              "  </style>\n",
              "\n",
              "      <script>\n",
              "        const buttonEl =\n",
              "          document.querySelector('#df-cbdea91c-5b50-4a4c-8e2c-71a37c925990 button.colab-df-convert');\n",
              "        buttonEl.style.display =\n",
              "          google.colab.kernel.accessAllowed ? 'block' : 'none';\n",
              "\n",
              "        async function convertToInteractive(key) {\n",
              "          const element = document.querySelector('#df-cbdea91c-5b50-4a4c-8e2c-71a37c925990');\n",
              "          const dataTable =\n",
              "            await google.colab.kernel.invokeFunction('convertToInteractive',\n",
              "                                                     [key], {});\n",
              "          if (!dataTable) return;\n",
              "\n",
              "          const docLinkHtml = 'Like what you see? Visit the ' +\n",
              "            '<a target=\"_blank\" href=https://colab.research.google.com/notebooks/data_table.ipynb>data table notebook</a>'\n",
              "            + ' to learn more about interactive tables.';\n",
              "          element.innerHTML = '';\n",
              "          dataTable['output_type'] = 'display_data';\n",
              "          await google.colab.output.renderOutput(dataTable, element);\n",
              "          const docLink = document.createElement('div');\n",
              "          docLink.innerHTML = docLinkHtml;\n",
              "          element.appendChild(docLink);\n",
              "        }\n",
              "      </script>\n",
              "    </div>\n",
              "  </div>\n"
            ]
          },
          "metadata": {},
          "execution_count": 5
        }
      ]
    },
    {
      "cell_type": "code",
      "source": [
        "real_data.info()"
      ],
      "metadata": {
        "colab": {
          "base_uri": "https://localhost:8080/"
        },
        "id": "v3LND3zRGnFt",
        "outputId": "3e238f55-9dfb-4bc1-e78d-2095c9f4ebd5"
      },
      "execution_count": 6,
      "outputs": [
        {
          "output_type": "stream",
          "name": "stdout",
          "text": [
            "<class 'pandas.core.frame.DataFrame'>\n",
            "RangeIndex: 21417 entries, 0 to 21416\n",
            "Data columns (total 4 columns):\n",
            " #   Column   Non-Null Count  Dtype \n",
            "---  ------   --------------  ----- \n",
            " 0   title    21417 non-null  object\n",
            " 1   text     21417 non-null  object\n",
            " 2   subject  21417 non-null  object\n",
            " 3   date     21417 non-null  object\n",
            "dtypes: object(4)\n",
            "memory usage: 669.4+ KB\n"
          ]
        }
      ]
    },
    {
      "cell_type": "code",
      "source": [
        "fake_data.info()"
      ],
      "metadata": {
        "colab": {
          "base_uri": "https://localhost:8080/"
        },
        "id": "6Bay5eq2IU1V",
        "outputId": "acd5711d-f1cc-4306-958a-c8ed43bec7e8"
      },
      "execution_count": 7,
      "outputs": [
        {
          "output_type": "stream",
          "name": "stdout",
          "text": [
            "<class 'pandas.core.frame.DataFrame'>\n",
            "RangeIndex: 23481 entries, 0 to 23480\n",
            "Data columns (total 4 columns):\n",
            " #   Column   Non-Null Count  Dtype \n",
            "---  ------   --------------  ----- \n",
            " 0   title    23481 non-null  object\n",
            " 1   text     23481 non-null  object\n",
            " 2   subject  23481 non-null  object\n",
            " 3   date     23481 non-null  object\n",
            "dtypes: object(4)\n",
            "memory usage: 733.9+ KB\n"
          ]
        }
      ]
    },
    {
      "cell_type": "code",
      "source": [
        "## sample news from datasets\n",
        "print(real_data.title[0],\"\\t Real\")\n",
        "print(fake_data.title[0],\"\\t Fake\")"
      ],
      "metadata": {
        "colab": {
          "base_uri": "https://localhost:8080/"
        },
        "id": "h1PSJwdlIV6f",
        "outputId": "0c996831-8cfb-4410-a656-88adb6b32b5c"
      },
      "execution_count": 8,
      "outputs": [
        {
          "output_type": "stream",
          "name": "stdout",
          "text": [
            "As U.S. budget fight looms, Republicans flip their fiscal script \t Real\n",
            " Donald Trump Sends Out Embarrassing New Year’s Eve Message; This is Disturbing \t Fake\n"
          ]
        }
      ]
    },
    {
      "cell_type": "markdown",
      "source": [
        "# **LOADING LARGE PRE-TRAINED ENGLISH MODEL**"
      ],
      "metadata": {
        "id": "u7-hCsxwa_6y"
      }
    },
    {
      "cell_type": "code",
      "source": [
        "import spacy\n",
        "spacy.cli.download(\"en_core_web_lg\")\n",
        "nlp = spacy.load(\"en_core_web_lg\")"
      ],
      "metadata": {
        "colab": {
          "base_uri": "https://localhost:8080/"
        },
        "id": "0nsk3hSgbFuX",
        "outputId": "cf82691a-d1da-43d3-eeb1-93d04ce08e9f"
      },
      "execution_count": 1,
      "outputs": [
        {
          "output_type": "stream",
          "name": "stdout",
          "text": [
            "\u001b[38;5;2m✔ Download and installation successful\u001b[0m\n",
            "You can now load the package via spacy.load('en_core_web_lg')\n"
          ]
        }
      ]
    },
    {
      "cell_type": "code",
      "source": [
        "nlp.pipe_names"
      ],
      "metadata": {
        "colab": {
          "base_uri": "https://localhost:8080/"
        },
        "id": "N1fjqT4MbGzT",
        "outputId": "58c05628-22fa-479f-9eb5-d8c412bc482c"
      },
      "execution_count": 2,
      "outputs": [
        {
          "output_type": "execute_result",
          "data": {
            "text/plain": [
              "['tok2vec', 'tagger', 'parser', 'attribute_ruler', 'lemmatizer', 'ner']"
            ]
          },
          "metadata": {},
          "execution_count": 2
        }
      ]
    },
    {
      "cell_type": "code",
      "source": [
        "doc = nlp(\"White House, Congress prepare for talks on spending, immigration\")"
      ],
      "metadata": {
        "id": "RftZvcSGclRU"
      },
      "execution_count": 3,
      "outputs": []
    },
    {
      "cell_type": "code",
      "source": [
        "# the text has been tokenized\n",
        "doc"
      ],
      "metadata": {
        "colab": {
          "base_uri": "https://localhost:8080/"
        },
        "id": "gUN-MO__fTTX",
        "outputId": "49fcddad-c33a-4266-8971-b7678b1a519c"
      },
      "execution_count": 21,
      "outputs": [
        {
          "output_type": "execute_result",
          "data": {
            "text/plain": [
              "White House, Congress prepare for talks on spending, immigration"
            ]
          },
          "metadata": {},
          "execution_count": 21
        }
      ]
    },
    {
      "cell_type": "code",
      "source": [
        "import inspect\n",
        "inspect.getmembers(doc)"
      ],
      "metadata": {
        "colab": {
          "base_uri": "https://localhost:8080/"
        },
        "id": "FGPh2FD5c2eu",
        "outputId": "f8e31dd6-00e0-46f6-c457-51dd2f2573ef"
      },
      "execution_count": 15,
      "outputs": [
        {
          "output_type": "execute_result",
          "data": {
            "text/plain": [
              "[('_', <spacy.tokens.underscore.Underscore at 0x788f1189d840>),\n",
              " ('__bytes__', <function Doc.__bytes__>),\n",
              " ('__class__', spacy.tokens.doc.Doc),\n",
              " ('__delattr__',\n",
              "  <method-wrapper '__delattr__' of spacy.tokens.doc.Doc object at 0x788f18b32500>),\n",
              " ('__dir__', <function Doc.__dir__()>),\n",
              " ('__doc__',\n",
              "  'Doc(Vocab vocab, words=None, spaces=None, user_data=None, *, tags=None, pos=None, morphs=None, lemmas=None, heads=None, deps=None, sent_starts=None, ents=None)\\nA sequence of Token objects. Access sentences and named entities, export\\n    annotations to numpy arrays, losslessly serialize to compressed binary\\n    strings. The `Doc` object holds an array of `TokenC` structs. The\\n    Python-level `Token` and `Span` objects are views of this array, i.e.\\n    they don\\'t own the data themselves.\\n\\n    EXAMPLE:\\n        Construction 1\\n        >>> doc = nlp(u\\'Some text\\')\\n\\n        Construction 2\\n        >>> from spacy.tokens import Doc\\n        >>> doc = Doc(nlp.vocab, words=[\"hello\", \"world\", \"!\"], spaces=[True, False, False])\\n\\n    DOCS: https://spacy.io/api/doc\\n    '),\n",
              " ('__eq__',\n",
              "  <method-wrapper '__eq__' of spacy.tokens.doc.Doc object at 0x788f18b32500>),\n",
              " ('__format__', <function Doc.__format__(format_spec, /)>),\n",
              " ('__ge__',\n",
              "  <method-wrapper '__ge__' of spacy.tokens.doc.Doc object at 0x788f18b32500>),\n",
              " ('__getattribute__',\n",
              "  <method-wrapper '__getattribute__' of spacy.tokens.doc.Doc object at 0x788f18b32500>),\n",
              " ('__getitem__',\n",
              "  <method-wrapper '__getitem__' of spacy.tokens.doc.Doc object at 0x788f18b32500>),\n",
              " ('__gt__',\n",
              "  <method-wrapper '__gt__' of spacy.tokens.doc.Doc object at 0x788f18b32500>),\n",
              " ('__hash__',\n",
              "  <method-wrapper '__hash__' of spacy.tokens.doc.Doc object at 0x788f18b32500>),\n",
              " ('__init__',\n",
              "  <method-wrapper '__init__' of spacy.tokens.doc.Doc object at 0x788f18b32500>),\n",
              " ('__init_subclass__', <function Doc.__init_subclass__>),\n",
              " ('__iter__',\n",
              "  <method-wrapper '__iter__' of spacy.tokens.doc.Doc object at 0x788f18b32500>),\n",
              " ('__le__',\n",
              "  <method-wrapper '__le__' of spacy.tokens.doc.Doc object at 0x788f18b32500>),\n",
              " ('__len__',\n",
              "  <method-wrapper '__len__' of spacy.tokens.doc.Doc object at 0x788f18b32500>),\n",
              " ('__lt__',\n",
              "  <method-wrapper '__lt__' of spacy.tokens.doc.Doc object at 0x788f18b32500>),\n",
              " ('__ne__',\n",
              "  <method-wrapper '__ne__' of spacy.tokens.doc.Doc object at 0x788f18b32500>),\n",
              " ('__new__', <function Doc.__new__(*args, **kwargs)>),\n",
              " ('__pyx_vtable__', <capsule object NULL at 0x788f1914c360>),\n",
              " ('__reduce__', <function Doc.__reduce_cython__>),\n",
              " ('__reduce_ex__', <function Doc.__reduce_ex__(protocol, /)>),\n",
              " ('__repr__',\n",
              "  <method-wrapper '__repr__' of spacy.tokens.doc.Doc object at 0x788f18b32500>),\n",
              " ('__setattr__',\n",
              "  <method-wrapper '__setattr__' of spacy.tokens.doc.Doc object at 0x788f18b32500>),\n",
              " ('__setstate__', <function Doc.__setstate_cython__>),\n",
              " ('__sizeof__', <function Doc.__sizeof__()>),\n",
              " ('__str__',\n",
              "  <method-wrapper '__str__' of spacy.tokens.doc.Doc object at 0x788f18b32500>),\n",
              " ('__subclasshook__', <function Doc.__subclasshook__>),\n",
              " ('__unicode__', <function Doc.__unicode__>),\n",
              " ('_bulk_merge', <function Doc._bulk_merge>),\n",
              " ('_context', None),\n",
              " ('_get_array_attrs', <function spacy.tokens.doc._get_array_attrs>),\n",
              " ('_realloc', <function Doc._realloc>),\n",
              " ('_vector',\n",
              "  array([-2.4071772 , -0.9718855 , -3.0410235 ,  1.3607991 ,  3.9874802 ,\n",
              "         -1.3973483 ,  0.09455271,  4.093764  ,  0.50695455, -1.1277709 ,\n",
              "          3.0648909 ,  2.4801683 , -3.380503  ,  1.0063609 ,  0.3467154 ,\n",
              "          3.4377296 ,  1.3361945 , -0.43478453, -1.2087264 , -1.313329  ,\n",
              "         -0.4212754 , -2.177009  ,  0.88965994,  0.19035362,  0.8934956 ,\n",
              "          0.9169209 , -2.1374145 ,  0.2027845 , -0.79333365,  0.15273461,\n",
              "         -0.84746075, -0.6925428 ,  1.0108519 , -2.3662171 , -0.63453543,\n",
              "         -1.9325429 , -0.40057725,  0.8969745 , -0.08952457, -0.10654727,\n",
              "          1.3431938 ,  0.37993813, -0.1929359 , -1.2518274 , -1.412191  ,\n",
              "          1.0021074 ,  2.2339435 , -2.6918502 , -0.10345454,  2.5046124 ,\n",
              "         -2.2878892 ,  2.8449118 , -1.5046189 , -4.2767057 , -0.8310039 ,\n",
              "          2.3289962 , -1.6296134 ,  0.78711283, -0.8173355 , -0.5419018 ,\n",
              "         -1.4775939 , -1.2539226 ,  2.4536607 , -0.4106251 ,  3.0488863 ,\n",
              "          0.67470175, -2.2863374 , -1.813942  ,  0.5026156 ,  2.852909  ,\n",
              "         -1.3231918 , -2.3922076 , -2.711509  ,  0.29925632, -0.34782726,\n",
              "          1.4320683 , -0.60548824,  0.55298364, -2.0799847 ,  0.22624372,\n",
              "         -2.5827956 , -1.2975608 ,  0.15521203,  2.5350935 ,  0.7691    ,\n",
              "         -0.43915635, -0.54555637, -3.998247  , -0.44174984, -1.1452727 ,\n",
              "         -0.51887727,  1.0246092 , -0.8403336 , -1.2705253 , -0.04451794,\n",
              "         -1.9992436 ,  0.95698833, -1.7993182 ,  1.58474   ,  2.3956208 ,\n",
              "          1.5961093 , -0.41845638,  3.0734236 ,  5.494273  ,  0.71475875,\n",
              "          3.0258799 ,  0.9409    , -1.5967721 ,  0.32069454, -4.7102804 ,\n",
              "          2.5266829 , -0.6606427 , -0.8013173 , -0.8446572 ,  3.070479  ,\n",
              "         -0.08236361, -0.29113054, -0.43802366, -1.3508178 , -1.4406791 ,\n",
              "         -0.02440089, -2.6013544 ,  1.9913265 , -1.8224208 ,  0.6333964 ,\n",
              "         -1.8535342 ,  1.9285362 , -0.97618634,  3.586624  , -2.158007  ,\n",
              "         -4.0782228 ,  1.0595708 ,  4.2505817 , -0.5538909 ,  0.48286727,\n",
              "          1.6161594 , -1.8058509 , -1.4582436 ,  3.6621032 , -0.9904518 ,\n",
              "         -1.330701  , -1.5963516 , -1.6073356 ,  0.40042183,  0.11048817,\n",
              "          1.053239  , -4.6138506 , -0.7390219 ,  1.1554596 ,  1.2807018 ,\n",
              "         -0.7852161 ,  1.4882163 , -0.4669636 ,  3.2580628 , -3.3683012 ,\n",
              "          0.6717038 ,  1.9227351 , -2.247216  , -2.376911  , -1.9205391 ,\n",
              "          0.26809567, -5.0563264 , -1.5218164 ,  1.618607  , -2.4210274 ,\n",
              "          0.06796729, -5.0235095 ,  1.4962318 ,  0.09018359,  1.4478663 ,\n",
              "          1.3008136 , -1.0358887 ,  1.3636183 ,  0.16011092,  0.3595782 ,\n",
              "          1.5731654 ,  0.86542815,  0.3951664 , -2.8011363 , -1.2329073 ,\n",
              "          0.55902   ,  1.9134747 ,  0.9246817 ,  1.9340137 , -1.2248487 ,\n",
              "          3.411927  ,  0.36969444,  0.04395821,  1.0654227 ,  2.959822  ,\n",
              "          0.61079526, -2.9636269 , -1.8435173 ,  0.7718409 , -1.008192  ,\n",
              "          0.47819817, -1.370091  , -0.41128638,  0.08089559,  1.9441146 ,\n",
              "         -0.39054272, -1.7699738 ,  1.3957448 , -1.7389679 ,  4.108907  ,\n",
              "          0.07363364, -2.966938  ,  3.6710258 , -1.6743436 , -1.0732656 ,\n",
              "         -0.09514722, -0.27105096, -0.9349973 ,  1.6202354 ,  0.44659817,\n",
              "          2.8337686 ,  0.11032724, -1.34375   ,  2.4335546 ,  0.74170184,\n",
              "         -0.7950254 , -0.11394462, -1.0423993 , -0.0862797 , -1.330019  ,\n",
              "         -1.0959066 ,  1.5870808 ,  2.3872802 , -0.3186545 , -0.8915072 ,\n",
              "          4.2187123 , -3.559509  , -0.17270094,  0.51056457,  3.2978563 ,\n",
              "          0.5299282 , -0.01232263, -0.10058182, -0.30458176, -0.93491304,\n",
              "          0.11614642,  1.2123793 ,  1.997272  ,  0.12120082, -1.6505737 ,\n",
              "          1.4671173 , -2.7433252 , -0.45459166, -2.152802  ,  3.4666238 ,\n",
              "          0.73082733, -2.664319  , -3.6093054 , -1.2691818 ,  0.8417291 ,\n",
              "         -1.7085117 ,  0.78941035, -2.2162101 ,  1.8159046 ,  2.797908  ,\n",
              "         -1.352672  ,  3.9281378 ,  1.4305913 ,  0.89218545,  1.9446092 ,\n",
              "         -0.09800222, -1.7676232 ,  1.6513156 , -4.3931503 , -1.1417527 ,\n",
              "         -2.6504853 , -0.93783545,  2.0486536 , -2.478139  ,  2.621221  ,\n",
              "         -0.9482836 ,  2.577111  , -3.4177675 , -0.60293907,  0.5098065 ,\n",
              "          3.3159766 ,  1.3365998 , -0.2868957 , -1.7176772 , -1.0477028 ,\n",
              "          1.6959664 , -0.79187894,  2.8723772 , -1.6442374 , -0.2873691 ,\n",
              "          0.5556218 , -1.5648632 , -1.7372456 , -0.934914  , -2.7031426 ,\n",
              "          0.40274   ,  1.9486271 , -1.177071  , -1.8486592 , -0.48592833],\n",
              "        dtype=float32)),\n",
              " ('_vector_norm', 32.73801195900512),\n",
              " ('cats', {}),\n",
              " ('char_span', <function Doc.char_span>),\n",
              " ('copy', <function Doc.copy>),\n",
              " ('count_by', <function Doc.count_by>),\n",
              " ('doc', White House, Congress prepare for talks on spending, immigration),\n",
              " ('ents', (White House, Congress)),\n",
              " ('extend_tensor', <function Doc.extend_tensor>),\n",
              " ('from_array', <function Doc.from_array>),\n",
              " ('from_bytes', <function Doc.from_bytes>),\n",
              " ('from_dict', <function Doc.from_dict>),\n",
              " ('from_disk', <function Doc.from_disk>),\n",
              " ('from_docs', <function spacy.tokens.doc.from_docs>),\n",
              " ('from_json', <function Doc.from_json>),\n",
              " ('get_extension', <function Doc.get_extension>),\n",
              " ('get_lca_matrix', <function Doc.get_lca_matrix>),\n",
              " ('has_annotation', <function Doc.has_annotation>),\n",
              " ('has_extension', <function Doc.has_extension>),\n",
              " ('has_unknown_spaces', False),\n",
              " ('has_vector', True),\n",
              " ('is_nered', True),\n",
              " ('is_parsed', True),\n",
              " ('is_sentenced', True),\n",
              " ('is_tagged', True),\n",
              " ('lang', 14626626061804382878),\n",
              " ('lang_', 'en'),\n",
              " ('mem', <cymem.cymem.Pool at 0x788f11babba0>),\n",
              " ('noun_chunks', <generator at 0x788f11b0e840>),\n",
              " ('noun_chunks_iterator',\n",
              "  <function spacy.lang.en.syntax_iterators.noun_chunks(doclike: Union[spacy.tokens.doc.Doc, spacy.tokens.span.Span]) -> Iterator[Tuple[int, int, int]]>),\n",
              " ('remove_extension', <function Doc.remove_extension>),\n",
              " ('retokenize', <function Doc.retokenize>),\n",
              " ('sentiment', 0.0),\n",
              " ('sents', <generator at 0x788f11b0e8e0>),\n",
              " ('set_ents', <function Doc.set_ents>),\n",
              " ('set_extension', <function Doc.set_extension>),\n",
              " ('similarity', <function Doc.similarity>),\n",
              " ('spans', {}),\n",
              " ('tensor',\n",
              "  array([[ 1.5880678 , -0.1564043 ,  0.53574693, ..., -0.5369218 ,\n",
              "           0.02394311,  0.73340136],\n",
              "         [ 0.38500386, -1.5135708 ,  0.91608214, ..., -1.2588682 ,\n",
              "          -0.11213678,  1.0353868 ],\n",
              "         [-0.50765246, -1.1498728 , -0.06270629, ..., -1.1101362 ,\n",
              "          -0.02537653, -0.17722775],\n",
              "         ...,\n",
              "         [ 0.16269754, -0.06520987,  0.35346645, ..., -1.0153593 ,\n",
              "           0.89618564,  0.3238692 ],\n",
              "         [-0.31838143, -1.0590982 , -0.3168912 , ..., -1.196188  ,\n",
              "           0.15626487, -0.06471497],\n",
              "         [ 0.15249793, -0.69922316, -0.57487595, ..., -1.8250037 ,\n",
              "           0.9444485 , -0.721671  ]], dtype=float32)),\n",
              " ('text', 'White House, Congress prepare for talks on spending, immigration'),\n",
              " ('text_with_ws',\n",
              "  'White House, Congress prepare for talks on spending, immigration'),\n",
              " ('to_array', <function Doc.to_array>),\n",
              " ('to_bytes', <function Doc.to_bytes>),\n",
              " ('to_dict', <function Doc.to_dict>),\n",
              " ('to_disk', <function Doc.to_disk>),\n",
              " ('to_json', <function Doc.to_json>),\n",
              " ('to_utf8_array', <function Doc.to_utf8_array>),\n",
              " ('user_data', {}),\n",
              " ('user_hooks', {}),\n",
              " ('user_span_hooks', {}),\n",
              " ('user_token_hooks', {}),\n",
              " ('vector',\n",
              "  array([-2.4071772 , -0.9718855 , -3.0410235 ,  1.3607991 ,  3.9874802 ,\n",
              "         -1.3973483 ,  0.09455271,  4.093764  ,  0.50695455, -1.1277709 ,\n",
              "          3.0648909 ,  2.4801683 , -3.380503  ,  1.0063609 ,  0.3467154 ,\n",
              "          3.4377296 ,  1.3361945 , -0.43478453, -1.2087264 , -1.313329  ,\n",
              "         -0.4212754 , -2.177009  ,  0.88965994,  0.19035362,  0.8934956 ,\n",
              "          0.9169209 , -2.1374145 ,  0.2027845 , -0.79333365,  0.15273461,\n",
              "         -0.84746075, -0.6925428 ,  1.0108519 , -2.3662171 , -0.63453543,\n",
              "         -1.9325429 , -0.40057725,  0.8969745 , -0.08952457, -0.10654727,\n",
              "          1.3431938 ,  0.37993813, -0.1929359 , -1.2518274 , -1.412191  ,\n",
              "          1.0021074 ,  2.2339435 , -2.6918502 , -0.10345454,  2.5046124 ,\n",
              "         -2.2878892 ,  2.8449118 , -1.5046189 , -4.2767057 , -0.8310039 ,\n",
              "          2.3289962 , -1.6296134 ,  0.78711283, -0.8173355 , -0.5419018 ,\n",
              "         -1.4775939 , -1.2539226 ,  2.4536607 , -0.4106251 ,  3.0488863 ,\n",
              "          0.67470175, -2.2863374 , -1.813942  ,  0.5026156 ,  2.852909  ,\n",
              "         -1.3231918 , -2.3922076 , -2.711509  ,  0.29925632, -0.34782726,\n",
              "          1.4320683 , -0.60548824,  0.55298364, -2.0799847 ,  0.22624372,\n",
              "         -2.5827956 , -1.2975608 ,  0.15521203,  2.5350935 ,  0.7691    ,\n",
              "         -0.43915635, -0.54555637, -3.998247  , -0.44174984, -1.1452727 ,\n",
              "         -0.51887727,  1.0246092 , -0.8403336 , -1.2705253 , -0.04451794,\n",
              "         -1.9992436 ,  0.95698833, -1.7993182 ,  1.58474   ,  2.3956208 ,\n",
              "          1.5961093 , -0.41845638,  3.0734236 ,  5.494273  ,  0.71475875,\n",
              "          3.0258799 ,  0.9409    , -1.5967721 ,  0.32069454, -4.7102804 ,\n",
              "          2.5266829 , -0.6606427 , -0.8013173 , -0.8446572 ,  3.070479  ,\n",
              "         -0.08236361, -0.29113054, -0.43802366, -1.3508178 , -1.4406791 ,\n",
              "         -0.02440089, -2.6013544 ,  1.9913265 , -1.8224208 ,  0.6333964 ,\n",
              "         -1.8535342 ,  1.9285362 , -0.97618634,  3.586624  , -2.158007  ,\n",
              "         -4.0782228 ,  1.0595708 ,  4.2505817 , -0.5538909 ,  0.48286727,\n",
              "          1.6161594 , -1.8058509 , -1.4582436 ,  3.6621032 , -0.9904518 ,\n",
              "         -1.330701  , -1.5963516 , -1.6073356 ,  0.40042183,  0.11048817,\n",
              "          1.053239  , -4.6138506 , -0.7390219 ,  1.1554596 ,  1.2807018 ,\n",
              "         -0.7852161 ,  1.4882163 , -0.4669636 ,  3.2580628 , -3.3683012 ,\n",
              "          0.6717038 ,  1.9227351 , -2.247216  , -2.376911  , -1.9205391 ,\n",
              "          0.26809567, -5.0563264 , -1.5218164 ,  1.618607  , -2.4210274 ,\n",
              "          0.06796729, -5.0235095 ,  1.4962318 ,  0.09018359,  1.4478663 ,\n",
              "          1.3008136 , -1.0358887 ,  1.3636183 ,  0.16011092,  0.3595782 ,\n",
              "          1.5731654 ,  0.86542815,  0.3951664 , -2.8011363 , -1.2329073 ,\n",
              "          0.55902   ,  1.9134747 ,  0.9246817 ,  1.9340137 , -1.2248487 ,\n",
              "          3.411927  ,  0.36969444,  0.04395821,  1.0654227 ,  2.959822  ,\n",
              "          0.61079526, -2.9636269 , -1.8435173 ,  0.7718409 , -1.008192  ,\n",
              "          0.47819817, -1.370091  , -0.41128638,  0.08089559,  1.9441146 ,\n",
              "         -0.39054272, -1.7699738 ,  1.3957448 , -1.7389679 ,  4.108907  ,\n",
              "          0.07363364, -2.966938  ,  3.6710258 , -1.6743436 , -1.0732656 ,\n",
              "         -0.09514722, -0.27105096, -0.9349973 ,  1.6202354 ,  0.44659817,\n",
              "          2.8337686 ,  0.11032724, -1.34375   ,  2.4335546 ,  0.74170184,\n",
              "         -0.7950254 , -0.11394462, -1.0423993 , -0.0862797 , -1.330019  ,\n",
              "         -1.0959066 ,  1.5870808 ,  2.3872802 , -0.3186545 , -0.8915072 ,\n",
              "          4.2187123 , -3.559509  , -0.17270094,  0.51056457,  3.2978563 ,\n",
              "          0.5299282 , -0.01232263, -0.10058182, -0.30458176, -0.93491304,\n",
              "          0.11614642,  1.2123793 ,  1.997272  ,  0.12120082, -1.6505737 ,\n",
              "          1.4671173 , -2.7433252 , -0.45459166, -2.152802  ,  3.4666238 ,\n",
              "          0.73082733, -2.664319  , -3.6093054 , -1.2691818 ,  0.8417291 ,\n",
              "         -1.7085117 ,  0.78941035, -2.2162101 ,  1.8159046 ,  2.797908  ,\n",
              "         -1.352672  ,  3.9281378 ,  1.4305913 ,  0.89218545,  1.9446092 ,\n",
              "         -0.09800222, -1.7676232 ,  1.6513156 , -4.3931503 , -1.1417527 ,\n",
              "         -2.6504853 , -0.93783545,  2.0486536 , -2.478139  ,  2.621221  ,\n",
              "         -0.9482836 ,  2.577111  , -3.4177675 , -0.60293907,  0.5098065 ,\n",
              "          3.3159766 ,  1.3365998 , -0.2868957 , -1.7176772 , -1.0477028 ,\n",
              "          1.6959664 , -0.79187894,  2.8723772 , -1.6442374 , -0.2873691 ,\n",
              "          0.5556218 , -1.5648632 , -1.7372456 , -0.934914  , -2.7031426 ,\n",
              "          0.40274   ,  1.9486271 , -1.177071  , -1.8486592 , -0.48592833],\n",
              "        dtype=float32)),\n",
              " ('vector_norm', 32.73801195900512),\n",
              " ('vocab', <spacy.vocab.Vocab at 0x788f227b4160>)]"
            ]
          },
          "metadata": {},
          "execution_count": 15
        }
      ]
    },
    {
      "cell_type": "code",
      "source": [
        "# printing entities of the text\n",
        "doc.ents"
      ],
      "metadata": {
        "colab": {
          "base_uri": "https://localhost:8080/"
        },
        "id": "10yl3zCIeSP2",
        "outputId": "f7dce283-5740-4e56-d950-244e6a3a2e3d"
      },
      "execution_count": 17,
      "outputs": [
        {
          "output_type": "execute_result",
          "data": {
            "text/plain": [
              "(White House, Congress)"
            ]
          },
          "metadata": {},
          "execution_count": 17
        }
      ]
    },
    {
      "cell_type": "code",
      "source": [
        "# printing vector of the text\n",
        "doc.vector"
      ],
      "metadata": {
        "colab": {
          "base_uri": "https://localhost:8080/"
        },
        "id": "VkZDC2DdgClJ",
        "outputId": "8f93f566-d0ad-4b5f-8609-8b48b6ec7c8b"
      },
      "execution_count": 25,
      "outputs": [
        {
          "output_type": "execute_result",
          "data": {
            "text/plain": [
              "array([-2.4071772 , -0.9718855 , -3.0410235 ,  1.3607991 ,  3.9874802 ,\n",
              "       -1.3973483 ,  0.09455271,  4.093764  ,  0.50695455, -1.1277709 ,\n",
              "        3.0648909 ,  2.4801683 , -3.380503  ,  1.0063609 ,  0.3467154 ,\n",
              "        3.4377296 ,  1.3361945 , -0.43478453, -1.2087264 , -1.313329  ,\n",
              "       -0.4212754 , -2.177009  ,  0.88965994,  0.19035362,  0.8934956 ,\n",
              "        0.9169209 , -2.1374145 ,  0.2027845 , -0.79333365,  0.15273461,\n",
              "       -0.84746075, -0.6925428 ,  1.0108519 , -2.3662171 , -0.63453543,\n",
              "       -1.9325429 , -0.40057725,  0.8969745 , -0.08952457, -0.10654727,\n",
              "        1.3431938 ,  0.37993813, -0.1929359 , -1.2518274 , -1.412191  ,\n",
              "        1.0021074 ,  2.2339435 , -2.6918502 , -0.10345454,  2.5046124 ,\n",
              "       -2.2878892 ,  2.8449118 , -1.5046189 , -4.2767057 , -0.8310039 ,\n",
              "        2.3289962 , -1.6296134 ,  0.78711283, -0.8173355 , -0.5419018 ,\n",
              "       -1.4775939 , -1.2539226 ,  2.4536607 , -0.4106251 ,  3.0488863 ,\n",
              "        0.67470175, -2.2863374 , -1.813942  ,  0.5026156 ,  2.852909  ,\n",
              "       -1.3231918 , -2.3922076 , -2.711509  ,  0.29925632, -0.34782726,\n",
              "        1.4320683 , -0.60548824,  0.55298364, -2.0799847 ,  0.22624372,\n",
              "       -2.5827956 , -1.2975608 ,  0.15521203,  2.5350935 ,  0.7691    ,\n",
              "       -0.43915635, -0.54555637, -3.998247  , -0.44174984, -1.1452727 ,\n",
              "       -0.51887727,  1.0246092 , -0.8403336 , -1.2705253 , -0.04451794,\n",
              "       -1.9992436 ,  0.95698833, -1.7993182 ,  1.58474   ,  2.3956208 ,\n",
              "        1.5961093 , -0.41845638,  3.0734236 ,  5.494273  ,  0.71475875,\n",
              "        3.0258799 ,  0.9409    , -1.5967721 ,  0.32069454, -4.7102804 ,\n",
              "        2.5266829 , -0.6606427 , -0.8013173 , -0.8446572 ,  3.070479  ,\n",
              "       -0.08236361, -0.29113054, -0.43802366, -1.3508178 , -1.4406791 ,\n",
              "       -0.02440089, -2.6013544 ,  1.9913265 , -1.8224208 ,  0.6333964 ,\n",
              "       -1.8535342 ,  1.9285362 , -0.97618634,  3.586624  , -2.158007  ,\n",
              "       -4.0782228 ,  1.0595708 ,  4.2505817 , -0.5538909 ,  0.48286727,\n",
              "        1.6161594 , -1.8058509 , -1.4582436 ,  3.6621032 , -0.9904518 ,\n",
              "       -1.330701  , -1.5963516 , -1.6073356 ,  0.40042183,  0.11048817,\n",
              "        1.053239  , -4.6138506 , -0.7390219 ,  1.1554596 ,  1.2807018 ,\n",
              "       -0.7852161 ,  1.4882163 , -0.4669636 ,  3.2580628 , -3.3683012 ,\n",
              "        0.6717038 ,  1.9227351 , -2.247216  , -2.376911  , -1.9205391 ,\n",
              "        0.26809567, -5.0563264 , -1.5218164 ,  1.618607  , -2.4210274 ,\n",
              "        0.06796729, -5.0235095 ,  1.4962318 ,  0.09018359,  1.4478663 ,\n",
              "        1.3008136 , -1.0358887 ,  1.3636183 ,  0.16011092,  0.3595782 ,\n",
              "        1.5731654 ,  0.86542815,  0.3951664 , -2.8011363 , -1.2329073 ,\n",
              "        0.55902   ,  1.9134747 ,  0.9246817 ,  1.9340137 , -1.2248487 ,\n",
              "        3.411927  ,  0.36969444,  0.04395821,  1.0654227 ,  2.959822  ,\n",
              "        0.61079526, -2.9636269 , -1.8435173 ,  0.7718409 , -1.008192  ,\n",
              "        0.47819817, -1.370091  , -0.41128638,  0.08089559,  1.9441146 ,\n",
              "       -0.39054272, -1.7699738 ,  1.3957448 , -1.7389679 ,  4.108907  ,\n",
              "        0.07363364, -2.966938  ,  3.6710258 , -1.6743436 , -1.0732656 ,\n",
              "       -0.09514722, -0.27105096, -0.9349973 ,  1.6202354 ,  0.44659817,\n",
              "        2.8337686 ,  0.11032724, -1.34375   ,  2.4335546 ,  0.74170184,\n",
              "       -0.7950254 , -0.11394462, -1.0423993 , -0.0862797 , -1.330019  ,\n",
              "       -1.0959066 ,  1.5870808 ,  2.3872802 , -0.3186545 , -0.8915072 ,\n",
              "        4.2187123 , -3.559509  , -0.17270094,  0.51056457,  3.2978563 ,\n",
              "        0.5299282 , -0.01232263, -0.10058182, -0.30458176, -0.93491304,\n",
              "        0.11614642,  1.2123793 ,  1.997272  ,  0.12120082, -1.6505737 ,\n",
              "        1.4671173 , -2.7433252 , -0.45459166, -2.152802  ,  3.4666238 ,\n",
              "        0.73082733, -2.664319  , -3.6093054 , -1.2691818 ,  0.8417291 ,\n",
              "       -1.7085117 ,  0.78941035, -2.2162101 ,  1.8159046 ,  2.797908  ,\n",
              "       -1.352672  ,  3.9281378 ,  1.4305913 ,  0.89218545,  1.9446092 ,\n",
              "       -0.09800222, -1.7676232 ,  1.6513156 , -4.3931503 , -1.1417527 ,\n",
              "       -2.6504853 , -0.93783545,  2.0486536 , -2.478139  ,  2.621221  ,\n",
              "       -0.9482836 ,  2.577111  , -3.4177675 , -0.60293907,  0.5098065 ,\n",
              "        3.3159766 ,  1.3365998 , -0.2868957 , -1.7176772 , -1.0477028 ,\n",
              "        1.6959664 , -0.79187894,  2.8723772 , -1.6442374 , -0.2873691 ,\n",
              "        0.5556218 , -1.5648632 , -1.7372456 , -0.934914  , -2.7031426 ,\n",
              "        0.40274   ,  1.9486271 , -1.177071  , -1.8486592 , -0.48592833],\n",
              "      dtype=float32)"
            ]
          },
          "metadata": {},
          "execution_count": 25
        }
      ]
    },
    {
      "cell_type": "code",
      "source": [
        "# text's token lemmatizing\n",
        "for token in doc:\n",
        "  print(token.lemma_)"
      ],
      "metadata": {
        "colab": {
          "base_uri": "https://localhost:8080/"
        },
        "id": "8xs4ekgtetVn",
        "outputId": "f43a01d7-ea09-4f75-f5dd-794a9963ed48"
      },
      "execution_count": 20,
      "outputs": [
        {
          "output_type": "stream",
          "name": "stdout",
          "text": [
            "White\n",
            "House\n",
            ",\n",
            "Congress\n",
            "prepare\n",
            "for\n",
            "talk\n",
            "on\n",
            "spending\n",
            ",\n",
            "immigration\n"
          ]
        }
      ]
    },
    {
      "cell_type": "markdown",
      "source": [
        "# **FEATURE ENGINEERING**"
      ],
      "metadata": {
        "id": "C78ethMAIc9c"
      }
    },
    {
      "cell_type": "code",
      "source": [
        "## Label Encoding\n",
        "real_data['label'] = 1\n",
        "fake_data['label'] = 0"
      ],
      "metadata": {
        "id": "6CuQtypkIcDn"
      },
      "execution_count": 9,
      "outputs": []
    },
    {
      "cell_type": "code",
      "source": [
        "real_data['vector'] = real_data.title.apply(lambda x: nlp(x).vector)\n",
        "fake_data['vector'] = fake_data.title.apply(lambda x: nlp(x).vector)"
      ],
      "metadata": {
        "id": "pJ5AcA_JI-Kn"
      },
      "execution_count": 12,
      "outputs": []
    },
    {
      "cell_type": "code",
      "source": [
        "real_data"
      ],
      "metadata": {
        "colab": {
          "base_uri": "https://localhost:8080/",
          "height": 467
        },
        "id": "dWPnKBrNSTrr",
        "outputId": "7520cf08-92fa-48f5-c31b-07ee146e74aa"
      },
      "execution_count": 74,
      "outputs": [
        {
          "output_type": "execute_result",
          "data": {
            "text/plain": [
              "                                                   title  \\\n",
              "0      As U.S. budget fight looms, Republicans flip t...   \n",
              "1      U.S. military to accept transgender recruits o...   \n",
              "2      Senior U.S. Republican senator: 'Let Mr. Muell...   \n",
              "3      FBI Russia probe helped by Australian diplomat...   \n",
              "4      Trump wants Postal Service to charge 'much mor...   \n",
              "...                                                  ...   \n",
              "21412  'Fully committed' NATO backs new U.S. approach...   \n",
              "21413  LexisNexis withdrew two products from Chinese ...   \n",
              "21414  Minsk cultural hub becomes haven from authorities   \n",
              "21415  Vatican upbeat on possibility of Pope Francis ...   \n",
              "21416  Indonesia to buy $1.14 billion worth of Russia...   \n",
              "\n",
              "                                                    text       subject  \\\n",
              "0      WASHINGTON (Reuters) - The head of a conservat...  politicsNews   \n",
              "1      WASHINGTON (Reuters) - Transgender people will...  politicsNews   \n",
              "2      WASHINGTON (Reuters) - The special counsel inv...  politicsNews   \n",
              "3      WASHINGTON (Reuters) - Trump campaign adviser ...  politicsNews   \n",
              "4      SEATTLE/WASHINGTON (Reuters) - President Donal...  politicsNews   \n",
              "...                                                  ...           ...   \n",
              "21412  BRUSSELS (Reuters) - NATO allies on Tuesday we...     worldnews   \n",
              "21413  LONDON (Reuters) - LexisNexis, a provider of l...     worldnews   \n",
              "21414  MINSK (Reuters) - In the shadow of disused Sov...     worldnews   \n",
              "21415  MOSCOW (Reuters) - Vatican Secretary of State ...     worldnews   \n",
              "21416  JAKARTA (Reuters) - Indonesia will buy 11 Sukh...     worldnews   \n",
              "\n",
              "                     date  label  \\\n",
              "0      December 31, 2017       1   \n",
              "1      December 29, 2017       1   \n",
              "2      December 31, 2017       1   \n",
              "3      December 30, 2017       1   \n",
              "4      December 29, 2017       1   \n",
              "...                   ...    ...   \n",
              "21412    August 22, 2017       1   \n",
              "21413    August 22, 2017       1   \n",
              "21414    August 22, 2017       1   \n",
              "21415    August 22, 2017       1   \n",
              "21416    August 22, 2017       1   \n",
              "\n",
              "                                                  vector  \n",
              "0      [-2.0529835, -0.569027, -3.1433282, 0.55970275...  \n",
              "1      [-1.4419098, 2.333012, -2.0302525, 2.1737072, ...  \n",
              "2      [0.557869, 2.2574153, 0.1913623, -0.041898414,...  \n",
              "3      [-1.4035959, 0.07810003, -0.17810063, 2.512658...  \n",
              "4      [0.010546171, 1.6784946, -0.5903046, 0.4184245...  \n",
              "...                                                  ...  \n",
              "21412  [-0.39947656, 1.839119, -0.33630174, 1.7395099...  \n",
              "21413  [-2.655166, -2.585305, -0.5322915, 1.7183971, ...  \n",
              "21414  [0.43744293, -0.38460714, -1.2909328, -0.12436...  \n",
              "21415  [-2.1427143, -0.02742219, -1.2982899, 0.777572...  \n",
              "21416  [-3.5448089, -0.41767097, -6.4840918, 0.330705...  \n",
              "\n",
              "[21417 rows x 6 columns]"
            ],
            "text/html": [
              "\n",
              "\n",
              "  <div id=\"df-4066e37f-2e1e-41c3-8a12-e349969720d7\">\n",
              "    <div class=\"colab-df-container\">\n",
              "      <div>\n",
              "<style scoped>\n",
              "    .dataframe tbody tr th:only-of-type {\n",
              "        vertical-align: middle;\n",
              "    }\n",
              "\n",
              "    .dataframe tbody tr th {\n",
              "        vertical-align: top;\n",
              "    }\n",
              "\n",
              "    .dataframe thead th {\n",
              "        text-align: right;\n",
              "    }\n",
              "</style>\n",
              "<table border=\"1\" class=\"dataframe\">\n",
              "  <thead>\n",
              "    <tr style=\"text-align: right;\">\n",
              "      <th></th>\n",
              "      <th>title</th>\n",
              "      <th>text</th>\n",
              "      <th>subject</th>\n",
              "      <th>date</th>\n",
              "      <th>label</th>\n",
              "      <th>vector</th>\n",
              "    </tr>\n",
              "  </thead>\n",
              "  <tbody>\n",
              "    <tr>\n",
              "      <th>0</th>\n",
              "      <td>As U.S. budget fight looms, Republicans flip t...</td>\n",
              "      <td>WASHINGTON (Reuters) - The head of a conservat...</td>\n",
              "      <td>politicsNews</td>\n",
              "      <td>December 31, 2017</td>\n",
              "      <td>1</td>\n",
              "      <td>[-2.0529835, -0.569027, -3.1433282, 0.55970275...</td>\n",
              "    </tr>\n",
              "    <tr>\n",
              "      <th>1</th>\n",
              "      <td>U.S. military to accept transgender recruits o...</td>\n",
              "      <td>WASHINGTON (Reuters) - Transgender people will...</td>\n",
              "      <td>politicsNews</td>\n",
              "      <td>December 29, 2017</td>\n",
              "      <td>1</td>\n",
              "      <td>[-1.4419098, 2.333012, -2.0302525, 2.1737072, ...</td>\n",
              "    </tr>\n",
              "    <tr>\n",
              "      <th>2</th>\n",
              "      <td>Senior U.S. Republican senator: 'Let Mr. Muell...</td>\n",
              "      <td>WASHINGTON (Reuters) - The special counsel inv...</td>\n",
              "      <td>politicsNews</td>\n",
              "      <td>December 31, 2017</td>\n",
              "      <td>1</td>\n",
              "      <td>[0.557869, 2.2574153, 0.1913623, -0.041898414,...</td>\n",
              "    </tr>\n",
              "    <tr>\n",
              "      <th>3</th>\n",
              "      <td>FBI Russia probe helped by Australian diplomat...</td>\n",
              "      <td>WASHINGTON (Reuters) - Trump campaign adviser ...</td>\n",
              "      <td>politicsNews</td>\n",
              "      <td>December 30, 2017</td>\n",
              "      <td>1</td>\n",
              "      <td>[-1.4035959, 0.07810003, -0.17810063, 2.512658...</td>\n",
              "    </tr>\n",
              "    <tr>\n",
              "      <th>4</th>\n",
              "      <td>Trump wants Postal Service to charge 'much mor...</td>\n",
              "      <td>SEATTLE/WASHINGTON (Reuters) - President Donal...</td>\n",
              "      <td>politicsNews</td>\n",
              "      <td>December 29, 2017</td>\n",
              "      <td>1</td>\n",
              "      <td>[0.010546171, 1.6784946, -0.5903046, 0.4184245...</td>\n",
              "    </tr>\n",
              "    <tr>\n",
              "      <th>...</th>\n",
              "      <td>...</td>\n",
              "      <td>...</td>\n",
              "      <td>...</td>\n",
              "      <td>...</td>\n",
              "      <td>...</td>\n",
              "      <td>...</td>\n",
              "    </tr>\n",
              "    <tr>\n",
              "      <th>21412</th>\n",
              "      <td>'Fully committed' NATO backs new U.S. approach...</td>\n",
              "      <td>BRUSSELS (Reuters) - NATO allies on Tuesday we...</td>\n",
              "      <td>worldnews</td>\n",
              "      <td>August 22, 2017</td>\n",
              "      <td>1</td>\n",
              "      <td>[-0.39947656, 1.839119, -0.33630174, 1.7395099...</td>\n",
              "    </tr>\n",
              "    <tr>\n",
              "      <th>21413</th>\n",
              "      <td>LexisNexis withdrew two products from Chinese ...</td>\n",
              "      <td>LONDON (Reuters) - LexisNexis, a provider of l...</td>\n",
              "      <td>worldnews</td>\n",
              "      <td>August 22, 2017</td>\n",
              "      <td>1</td>\n",
              "      <td>[-2.655166, -2.585305, -0.5322915, 1.7183971, ...</td>\n",
              "    </tr>\n",
              "    <tr>\n",
              "      <th>21414</th>\n",
              "      <td>Minsk cultural hub becomes haven from authorities</td>\n",
              "      <td>MINSK (Reuters) - In the shadow of disused Sov...</td>\n",
              "      <td>worldnews</td>\n",
              "      <td>August 22, 2017</td>\n",
              "      <td>1</td>\n",
              "      <td>[0.43744293, -0.38460714, -1.2909328, -0.12436...</td>\n",
              "    </tr>\n",
              "    <tr>\n",
              "      <th>21415</th>\n",
              "      <td>Vatican upbeat on possibility of Pope Francis ...</td>\n",
              "      <td>MOSCOW (Reuters) - Vatican Secretary of State ...</td>\n",
              "      <td>worldnews</td>\n",
              "      <td>August 22, 2017</td>\n",
              "      <td>1</td>\n",
              "      <td>[-2.1427143, -0.02742219, -1.2982899, 0.777572...</td>\n",
              "    </tr>\n",
              "    <tr>\n",
              "      <th>21416</th>\n",
              "      <td>Indonesia to buy $1.14 billion worth of Russia...</td>\n",
              "      <td>JAKARTA (Reuters) - Indonesia will buy 11 Sukh...</td>\n",
              "      <td>worldnews</td>\n",
              "      <td>August 22, 2017</td>\n",
              "      <td>1</td>\n",
              "      <td>[-3.5448089, -0.41767097, -6.4840918, 0.330705...</td>\n",
              "    </tr>\n",
              "  </tbody>\n",
              "</table>\n",
              "<p>21417 rows × 6 columns</p>\n",
              "</div>\n",
              "      <button class=\"colab-df-convert\" onclick=\"convertToInteractive('df-4066e37f-2e1e-41c3-8a12-e349969720d7')\"\n",
              "              title=\"Convert this dataframe to an interactive table.\"\n",
              "              style=\"display:none;\">\n",
              "\n",
              "  <svg xmlns=\"http://www.w3.org/2000/svg\" height=\"24px\"viewBox=\"0 0 24 24\"\n",
              "       width=\"24px\">\n",
              "    <path d=\"M0 0h24v24H0V0z\" fill=\"none\"/>\n",
              "    <path d=\"M18.56 5.44l.94 2.06.94-2.06 2.06-.94-2.06-.94-.94-2.06-.94 2.06-2.06.94zm-11 1L8.5 8.5l.94-2.06 2.06-.94-2.06-.94L8.5 2.5l-.94 2.06-2.06.94zm10 10l.94 2.06.94-2.06 2.06-.94-2.06-.94-.94-2.06-.94 2.06-2.06.94z\"/><path d=\"M17.41 7.96l-1.37-1.37c-.4-.4-.92-.59-1.43-.59-.52 0-1.04.2-1.43.59L10.3 9.45l-7.72 7.72c-.78.78-.78 2.05 0 2.83L4 21.41c.39.39.9.59 1.41.59.51 0 1.02-.2 1.41-.59l7.78-7.78 2.81-2.81c.8-.78.8-2.07 0-2.86zM5.41 20L4 18.59l7.72-7.72 1.47 1.35L5.41 20z\"/>\n",
              "  </svg>\n",
              "      </button>\n",
              "\n",
              "\n",
              "\n",
              "    <div id=\"df-5404eb3d-dd98-4f15-9dc1-2f42bb81437f\">\n",
              "      <button class=\"colab-df-quickchart\" onclick=\"quickchart('df-5404eb3d-dd98-4f15-9dc1-2f42bb81437f')\"\n",
              "              title=\"Suggest charts.\"\n",
              "              style=\"display:none;\">\n",
              "\n",
              "<svg xmlns=\"http://www.w3.org/2000/svg\" height=\"24px\"viewBox=\"0 0 24 24\"\n",
              "     width=\"24px\">\n",
              "    <g>\n",
              "        <path d=\"M19 3H5c-1.1 0-2 .9-2 2v14c0 1.1.9 2 2 2h14c1.1 0 2-.9 2-2V5c0-1.1-.9-2-2-2zM9 17H7v-7h2v7zm4 0h-2V7h2v10zm4 0h-2v-4h2v4z\"/>\n",
              "    </g>\n",
              "</svg>\n",
              "      </button>\n",
              "    </div>\n",
              "\n",
              "<style>\n",
              "  .colab-df-quickchart {\n",
              "    background-color: #E8F0FE;\n",
              "    border: none;\n",
              "    border-radius: 50%;\n",
              "    cursor: pointer;\n",
              "    display: none;\n",
              "    fill: #1967D2;\n",
              "    height: 32px;\n",
              "    padding: 0 0 0 0;\n",
              "    width: 32px;\n",
              "  }\n",
              "\n",
              "  .colab-df-quickchart:hover {\n",
              "    background-color: #E2EBFA;\n",
              "    box-shadow: 0px 1px 2px rgba(60, 64, 67, 0.3), 0px 1px 3px 1px rgba(60, 64, 67, 0.15);\n",
              "    fill: #174EA6;\n",
              "  }\n",
              "\n",
              "  [theme=dark] .colab-df-quickchart {\n",
              "    background-color: #3B4455;\n",
              "    fill: #D2E3FC;\n",
              "  }\n",
              "\n",
              "  [theme=dark] .colab-df-quickchart:hover {\n",
              "    background-color: #434B5C;\n",
              "    box-shadow: 0px 1px 3px 1px rgba(0, 0, 0, 0.15);\n",
              "    filter: drop-shadow(0px 1px 2px rgba(0, 0, 0, 0.3));\n",
              "    fill: #FFFFFF;\n",
              "  }\n",
              "</style>\n",
              "\n",
              "    <script>\n",
              "      async function quickchart(key) {\n",
              "        const containerElement = document.querySelector('#' + key);\n",
              "        const charts = await google.colab.kernel.invokeFunction(\n",
              "            'suggestCharts', [key], {});\n",
              "      }\n",
              "    </script>\n",
              "\n",
              "      <script>\n",
              "\n",
              "function displayQuickchartButton(domScope) {\n",
              "  let quickchartButtonEl =\n",
              "    domScope.querySelector('#df-5404eb3d-dd98-4f15-9dc1-2f42bb81437f button.colab-df-quickchart');\n",
              "  quickchartButtonEl.style.display =\n",
              "    google.colab.kernel.accessAllowed ? 'block' : 'none';\n",
              "}\n",
              "\n",
              "        displayQuickchartButton(document);\n",
              "      </script>\n",
              "      <style>\n",
              "    .colab-df-container {\n",
              "      display:flex;\n",
              "      flex-wrap:wrap;\n",
              "      gap: 12px;\n",
              "    }\n",
              "\n",
              "    .colab-df-convert {\n",
              "      background-color: #E8F0FE;\n",
              "      border: none;\n",
              "      border-radius: 50%;\n",
              "      cursor: pointer;\n",
              "      display: none;\n",
              "      fill: #1967D2;\n",
              "      height: 32px;\n",
              "      padding: 0 0 0 0;\n",
              "      width: 32px;\n",
              "    }\n",
              "\n",
              "    .colab-df-convert:hover {\n",
              "      background-color: #E2EBFA;\n",
              "      box-shadow: 0px 1px 2px rgba(60, 64, 67, 0.3), 0px 1px 3px 1px rgba(60, 64, 67, 0.15);\n",
              "      fill: #174EA6;\n",
              "    }\n",
              "\n",
              "    [theme=dark] .colab-df-convert {\n",
              "      background-color: #3B4455;\n",
              "      fill: #D2E3FC;\n",
              "    }\n",
              "\n",
              "    [theme=dark] .colab-df-convert:hover {\n",
              "      background-color: #434B5C;\n",
              "      box-shadow: 0px 1px 3px 1px rgba(0, 0, 0, 0.15);\n",
              "      filter: drop-shadow(0px 1px 2px rgba(0, 0, 0, 0.3));\n",
              "      fill: #FFFFFF;\n",
              "    }\n",
              "  </style>\n",
              "\n",
              "      <script>\n",
              "        const buttonEl =\n",
              "          document.querySelector('#df-4066e37f-2e1e-41c3-8a12-e349969720d7 button.colab-df-convert');\n",
              "        buttonEl.style.display =\n",
              "          google.colab.kernel.accessAllowed ? 'block' : 'none';\n",
              "\n",
              "        async function convertToInteractive(key) {\n",
              "          const element = document.querySelector('#df-4066e37f-2e1e-41c3-8a12-e349969720d7');\n",
              "          const dataTable =\n",
              "            await google.colab.kernel.invokeFunction('convertToInteractive',\n",
              "                                                     [key], {});\n",
              "          if (!dataTable) return;\n",
              "\n",
              "          const docLinkHtml = 'Like what you see? Visit the ' +\n",
              "            '<a target=\"_blank\" href=https://colab.research.google.com/notebooks/data_table.ipynb>data table notebook</a>'\n",
              "            + ' to learn more about interactive tables.';\n",
              "          element.innerHTML = '';\n",
              "          dataTable['output_type'] = 'display_data';\n",
              "          await google.colab.output.renderOutput(dataTable, element);\n",
              "          const docLink = document.createElement('div');\n",
              "          docLink.innerHTML = docLinkHtml;\n",
              "          element.appendChild(docLink);\n",
              "        }\n",
              "      </script>\n",
              "    </div>\n",
              "  </div>\n"
            ]
          },
          "metadata": {},
          "execution_count": 74
        }
      ]
    },
    {
      "cell_type": "code",
      "source": [
        "concat_data = pd.concat([real_data[['vector','label']], fake_data[['vector','label']]])\n",
        "concat_data[:5]"
      ],
      "metadata": {
        "colab": {
          "base_uri": "https://localhost:8080/",
          "height": 206
        },
        "id": "JLzu3J82I-ql",
        "outputId": "91010364-eb4e-4e69-d11a-d9830e250c46"
      },
      "execution_count": 13,
      "outputs": [
        {
          "output_type": "execute_result",
          "data": {
            "text/plain": [
              "                                              vector  label\n",
              "0  [-2.0529835, -0.569027, -3.1433282, 0.55970275...      1\n",
              "1  [-1.4419098, 2.333012, -2.0302525, 2.1737072, ...      1\n",
              "2  [0.557869, 2.2574153, 0.1913623, -0.041898414,...      1\n",
              "3  [-1.4035959, 0.07810003, -0.17810063, 2.512658...      1\n",
              "4  [0.010546171, 1.6784946, -0.5903046, 0.4184245...      1"
            ],
            "text/html": [
              "\n",
              "\n",
              "  <div id=\"df-20cd7289-3ad5-4109-9068-300b84631bb9\">\n",
              "    <div class=\"colab-df-container\">\n",
              "      <div>\n",
              "<style scoped>\n",
              "    .dataframe tbody tr th:only-of-type {\n",
              "        vertical-align: middle;\n",
              "    }\n",
              "\n",
              "    .dataframe tbody tr th {\n",
              "        vertical-align: top;\n",
              "    }\n",
              "\n",
              "    .dataframe thead th {\n",
              "        text-align: right;\n",
              "    }\n",
              "</style>\n",
              "<table border=\"1\" class=\"dataframe\">\n",
              "  <thead>\n",
              "    <tr style=\"text-align: right;\">\n",
              "      <th></th>\n",
              "      <th>vector</th>\n",
              "      <th>label</th>\n",
              "    </tr>\n",
              "  </thead>\n",
              "  <tbody>\n",
              "    <tr>\n",
              "      <th>0</th>\n",
              "      <td>[-2.0529835, -0.569027, -3.1433282, 0.55970275...</td>\n",
              "      <td>1</td>\n",
              "    </tr>\n",
              "    <tr>\n",
              "      <th>1</th>\n",
              "      <td>[-1.4419098, 2.333012, -2.0302525, 2.1737072, ...</td>\n",
              "      <td>1</td>\n",
              "    </tr>\n",
              "    <tr>\n",
              "      <th>2</th>\n",
              "      <td>[0.557869, 2.2574153, 0.1913623, -0.041898414,...</td>\n",
              "      <td>1</td>\n",
              "    </tr>\n",
              "    <tr>\n",
              "      <th>3</th>\n",
              "      <td>[-1.4035959, 0.07810003, -0.17810063, 2.512658...</td>\n",
              "      <td>1</td>\n",
              "    </tr>\n",
              "    <tr>\n",
              "      <th>4</th>\n",
              "      <td>[0.010546171, 1.6784946, -0.5903046, 0.4184245...</td>\n",
              "      <td>1</td>\n",
              "    </tr>\n",
              "  </tbody>\n",
              "</table>\n",
              "</div>\n",
              "      <button class=\"colab-df-convert\" onclick=\"convertToInteractive('df-20cd7289-3ad5-4109-9068-300b84631bb9')\"\n",
              "              title=\"Convert this dataframe to an interactive table.\"\n",
              "              style=\"display:none;\">\n",
              "\n",
              "  <svg xmlns=\"http://www.w3.org/2000/svg\" height=\"24px\"viewBox=\"0 0 24 24\"\n",
              "       width=\"24px\">\n",
              "    <path d=\"M0 0h24v24H0V0z\" fill=\"none\"/>\n",
              "    <path d=\"M18.56 5.44l.94 2.06.94-2.06 2.06-.94-2.06-.94-.94-2.06-.94 2.06-2.06.94zm-11 1L8.5 8.5l.94-2.06 2.06-.94-2.06-.94L8.5 2.5l-.94 2.06-2.06.94zm10 10l.94 2.06.94-2.06 2.06-.94-2.06-.94-.94-2.06-.94 2.06-2.06.94z\"/><path d=\"M17.41 7.96l-1.37-1.37c-.4-.4-.92-.59-1.43-.59-.52 0-1.04.2-1.43.59L10.3 9.45l-7.72 7.72c-.78.78-.78 2.05 0 2.83L4 21.41c.39.39.9.59 1.41.59.51 0 1.02-.2 1.41-.59l7.78-7.78 2.81-2.81c.8-.78.8-2.07 0-2.86zM5.41 20L4 18.59l7.72-7.72 1.47 1.35L5.41 20z\"/>\n",
              "  </svg>\n",
              "      </button>\n",
              "\n",
              "\n",
              "\n",
              "    <div id=\"df-60737419-5ba1-49f3-a3b6-64f280084094\">\n",
              "      <button class=\"colab-df-quickchart\" onclick=\"quickchart('df-60737419-5ba1-49f3-a3b6-64f280084094')\"\n",
              "              title=\"Suggest charts.\"\n",
              "              style=\"display:none;\">\n",
              "\n",
              "<svg xmlns=\"http://www.w3.org/2000/svg\" height=\"24px\"viewBox=\"0 0 24 24\"\n",
              "     width=\"24px\">\n",
              "    <g>\n",
              "        <path d=\"M19 3H5c-1.1 0-2 .9-2 2v14c0 1.1.9 2 2 2h14c1.1 0 2-.9 2-2V5c0-1.1-.9-2-2-2zM9 17H7v-7h2v7zm4 0h-2V7h2v10zm4 0h-2v-4h2v4z\"/>\n",
              "    </g>\n",
              "</svg>\n",
              "      </button>\n",
              "    </div>\n",
              "\n",
              "<style>\n",
              "  .colab-df-quickchart {\n",
              "    background-color: #E8F0FE;\n",
              "    border: none;\n",
              "    border-radius: 50%;\n",
              "    cursor: pointer;\n",
              "    display: none;\n",
              "    fill: #1967D2;\n",
              "    height: 32px;\n",
              "    padding: 0 0 0 0;\n",
              "    width: 32px;\n",
              "  }\n",
              "\n",
              "  .colab-df-quickchart:hover {\n",
              "    background-color: #E2EBFA;\n",
              "    box-shadow: 0px 1px 2px rgba(60, 64, 67, 0.3), 0px 1px 3px 1px rgba(60, 64, 67, 0.15);\n",
              "    fill: #174EA6;\n",
              "  }\n",
              "\n",
              "  [theme=dark] .colab-df-quickchart {\n",
              "    background-color: #3B4455;\n",
              "    fill: #D2E3FC;\n",
              "  }\n",
              "\n",
              "  [theme=dark] .colab-df-quickchart:hover {\n",
              "    background-color: #434B5C;\n",
              "    box-shadow: 0px 1px 3px 1px rgba(0, 0, 0, 0.15);\n",
              "    filter: drop-shadow(0px 1px 2px rgba(0, 0, 0, 0.3));\n",
              "    fill: #FFFFFF;\n",
              "  }\n",
              "</style>\n",
              "\n",
              "    <script>\n",
              "      async function quickchart(key) {\n",
              "        const containerElement = document.querySelector('#' + key);\n",
              "        const charts = await google.colab.kernel.invokeFunction(\n",
              "            'suggestCharts', [key], {});\n",
              "      }\n",
              "    </script>\n",
              "\n",
              "      <script>\n",
              "\n",
              "function displayQuickchartButton(domScope) {\n",
              "  let quickchartButtonEl =\n",
              "    domScope.querySelector('#df-60737419-5ba1-49f3-a3b6-64f280084094 button.colab-df-quickchart');\n",
              "  quickchartButtonEl.style.display =\n",
              "    google.colab.kernel.accessAllowed ? 'block' : 'none';\n",
              "}\n",
              "\n",
              "        displayQuickchartButton(document);\n",
              "      </script>\n",
              "      <style>\n",
              "    .colab-df-container {\n",
              "      display:flex;\n",
              "      flex-wrap:wrap;\n",
              "      gap: 12px;\n",
              "    }\n",
              "\n",
              "    .colab-df-convert {\n",
              "      background-color: #E8F0FE;\n",
              "      border: none;\n",
              "      border-radius: 50%;\n",
              "      cursor: pointer;\n",
              "      display: none;\n",
              "      fill: #1967D2;\n",
              "      height: 32px;\n",
              "      padding: 0 0 0 0;\n",
              "      width: 32px;\n",
              "    }\n",
              "\n",
              "    .colab-df-convert:hover {\n",
              "      background-color: #E2EBFA;\n",
              "      box-shadow: 0px 1px 2px rgba(60, 64, 67, 0.3), 0px 1px 3px 1px rgba(60, 64, 67, 0.15);\n",
              "      fill: #174EA6;\n",
              "    }\n",
              "\n",
              "    [theme=dark] .colab-df-convert {\n",
              "      background-color: #3B4455;\n",
              "      fill: #D2E3FC;\n",
              "    }\n",
              "\n",
              "    [theme=dark] .colab-df-convert:hover {\n",
              "      background-color: #434B5C;\n",
              "      box-shadow: 0px 1px 3px 1px rgba(0, 0, 0, 0.15);\n",
              "      filter: drop-shadow(0px 1px 2px rgba(0, 0, 0, 0.3));\n",
              "      fill: #FFFFFF;\n",
              "    }\n",
              "  </style>\n",
              "\n",
              "      <script>\n",
              "        const buttonEl =\n",
              "          document.querySelector('#df-20cd7289-3ad5-4109-9068-300b84631bb9 button.colab-df-convert');\n",
              "        buttonEl.style.display =\n",
              "          google.colab.kernel.accessAllowed ? 'block' : 'none';\n",
              "\n",
              "        async function convertToInteractive(key) {\n",
              "          const element = document.querySelector('#df-20cd7289-3ad5-4109-9068-300b84631bb9');\n",
              "          const dataTable =\n",
              "            await google.colab.kernel.invokeFunction('convertToInteractive',\n",
              "                                                     [key], {});\n",
              "          if (!dataTable) return;\n",
              "\n",
              "          const docLinkHtml = 'Like what you see? Visit the ' +\n",
              "            '<a target=\"_blank\" href=https://colab.research.google.com/notebooks/data_table.ipynb>data table notebook</a>'\n",
              "            + ' to learn more about interactive tables.';\n",
              "          element.innerHTML = '';\n",
              "          dataTable['output_type'] = 'display_data';\n",
              "          await google.colab.output.renderOutput(dataTable, element);\n",
              "          const docLink = document.createElement('div');\n",
              "          docLink.innerHTML = docLinkHtml;\n",
              "          element.appendChild(docLink);\n",
              "        }\n",
              "      </script>\n",
              "    </div>\n",
              "  </div>\n"
            ]
          },
          "metadata": {},
          "execution_count": 13
        }
      ]
    },
    {
      "cell_type": "code",
      "source": [
        "concat_data[\"vector\"].to_numpy()"
      ],
      "metadata": {
        "colab": {
          "base_uri": "https://localhost:8080/"
        },
        "id": "KzGHdX3aSBgQ",
        "outputId": "7374378a-fac5-4321-f2ae-41150527af02"
      },
      "execution_count": 73,
      "outputs": [
        {
          "output_type": "execute_result",
          "data": {
            "text/plain": [
              "array([array([-2.05298352e+00, -5.69027007e-01, -3.14332819e+00,  5.59702754e-01,\n",
              "               2.34338737e+00,  6.11786425e-01, -5.86090982e-01,  3.75486827e+00,\n",
              "              -1.39141369e+00, -4.73719072e+00,  3.73624563e+00,  1.70822728e+00,\n",
              "              -2.79547262e+00,  1.69996536e+00, -5.22788227e-01,  2.64950371e+00,\n",
              "               1.50680625e+00, -7.95895338e-01, -7.25800037e-01,  2.62831807e-01,\n",
              "               1.59186256e+00, -4.63966280e-01,  5.17202735e-01, -2.06071448e+00,\n",
              "               4.77971852e-01, -1.81196892e+00, -7.55618155e-01, -2.83631831e-01,\n",
              "               3.97582710e-01,  1.01238358e+00, -9.20317233e-01, -5.43072641e-01,\n",
              "               1.01419830e+00, -1.16878462e+00, -2.02463293e+00, -2.49212241e+00,\n",
              "              -1.07076192e+00, -1.44277230e-01,  6.49407327e-01,  5.81057310e-01,\n",
              "               1.03119183e+00,  7.17255414e-01, -1.17987728e+00,  2.12526321e-01,\n",
              "              -1.71630239e+00,  4.22548177e-03, -4.83047217e-01, -2.35084891e+00,\n",
              "              -5.69853365e-01,  1.65974820e+00, -1.66478550e+00,  2.12221742e+00,\n",
              "               1.49578738e+00, -5.20719099e+00, -1.09032130e+00,  3.02891761e-01,\n",
              "              -1.65894163e+00,  6.87276423e-01,  1.99705195e+00, -1.58381081e+00,\n",
              "               1.66734648e+00,  3.26786399e-01,  1.15288913e+00, -2.09926438e+00,\n",
              "               2.69983077e+00,  1.29330719e+00, -2.74905419e+00, -1.99416625e+00,\n",
              "              -4.92135495e-01,  1.34506559e+00,  1.34404552e+00, -1.40839529e+00,\n",
              "              -9.02541876e-01,  2.95831740e-01,  1.42619073e-01,  2.09589934e+00,\n",
              "              -9.46166217e-01,  1.32566273e+00, -2.17187524e+00, -6.12271011e-01,\n",
              "              -2.96705461e+00,  7.00015068e-01,  1.59644270e+00,  2.27842641e+00,\n",
              "               1.09907997e+00, -1.46819103e+00, -7.59141862e-01, -3.48511720e+00,\n",
              "              -1.90794003e+00, -2.28180513e-01, -7.15440035e-01,  1.41550815e+00,\n",
              "               1.01948988e+00, -2.36857986e+00,  1.63021004e+00, -2.57920265e+00,\n",
              "               1.14687097e+00, -2.92065442e-01,  1.05308080e+00,  2.01720452e+00,\n",
              "               3.20911121e+00,  1.61343050e+00,  2.44580722e+00,  4.80544567e-01,\n",
              "               3.16423714e-01,  2.82782173e+00,  1.36730087e+00, -2.96439457e+00,\n",
              "              -8.97586286e-01, -2.85344720e+00,  1.43186367e+00,  2.90144473e-01,\n",
              "              -1.34186661e+00,  1.48370707e+00,  3.34894329e-01,  1.82024717e+00,\n",
              "              -2.16867995e+00, -2.17156625e+00,  1.94816455e-01,  1.32994640e+00,\n",
              "               3.54018547e-02, -7.73606360e-01,  1.15591276e+00,  1.26863830e-02,\n",
              "              -6.47889137e-01, -1.62843335e+00,  8.14423561e-01, -1.20319092e+00,\n",
              "               1.20349395e+00, -1.68875992e+00, -1.93427193e+00, -1.57239997e+00,\n",
              "               1.92490530e+00, -6.77916348e-01,  7.91766882e-01, -9.17185962e-01,\n",
              "              -2.58722830e+00, -2.84011275e-01,  2.48230386e+00, -1.99969900e+00,\n",
              "              -1.61225200e+00, -1.05690455e+00,  1.20895183e+00,  1.14924991e+00,\n",
              "              -4.84782666e-01,  1.38568830e+00, -3.95363379e+00, -2.12583637e+00,\n",
              "               3.84623647e-01, -5.52490838e-02, -1.18701947e+00,  6.83644831e-01,\n",
              "              -1.61442840e+00,  2.38910747e+00, -6.23343527e-01,  7.83955514e-01,\n",
              "               1.42659461e+00, -8.91364276e-01, -1.17472716e-01, -4.59867299e-01,\n",
              "               7.09053695e-01, -3.01966834e+00, -2.68515420e+00, -6.01743639e-01,\n",
              "              -2.44625902e+00, -8.41510832e-01, -2.49264812e+00,  1.07439972e-01,\n",
              "              -1.21917188e+00, -6.47169113e-01,  1.51362610e+00,  1.43706179e+00,\n",
              "              -3.07594299e-01,  1.04519971e-01,  3.00540924e-01,  7.37871766e-01,\n",
              "              -1.73126018e+00, -6.09684646e-01, -1.49709737e+00, -1.12954758e-01,\n",
              "              -8.67568731e-01,  2.07139444e+00,  3.26609969e-01,  2.51758122e+00,\n",
              "              -5.47988296e-01,  7.65169919e-01, -6.96843803e-01, -2.66895384e-01,\n",
              "               2.24329829e+00,  2.55632091e+00,  5.66001832e-01,  4.39679056e-01,\n",
              "              -3.22598338e+00, -1.00625753e+00,  7.02314556e-01,  2.95987815e-01,\n",
              "              -6.36250854e-01, -1.01209366e+00, -1.35178006e+00,  3.07914567e+00,\n",
              "              -3.90940934e-01, -1.31023991e+00,  7.69036934e-02,  6.78251207e-01,\n",
              "               2.90202641e+00,  9.63348210e-01, -2.69280791e+00,  1.41747749e+00,\n",
              "              -8.44879150e-01, -9.15932715e-01,  9.76280928e-01,  4.54383492e-01,\n",
              "              -2.68815637e+00,  5.36390007e-01,  1.56866837e+00,  2.14909458e+00,\n",
              "               1.44159305e+00, -2.54389000e+00,  2.54927248e-01,  5.10045350e-01,\n",
              "              -1.80307353e+00,  4.30848688e-01, -4.88941789e-01,  1.30502522e+00,\n",
              "               6.18482351e-01, -1.91837227e+00,  1.46726811e+00,  1.42727613e+00,\n",
              "              -1.01813996e+00,  1.30223620e+00,  4.24421883e+00, -1.71544826e+00,\n",
              "              -1.16607630e+00,  6.46572649e-01,  2.15759254e+00,  3.98188204e-01,\n",
              "              -4.06597912e-01,  4.39256757e-01,  5.84674597e-01, -9.24444795e-01,\n",
              "               1.05966187e+00,  1.57413864e+00,  1.77785885e+00, -6.79900423e-02,\n",
              "              -1.74193665e-01,  2.03265452e+00, -8.97910893e-01,  8.44145715e-01,\n",
              "               5.16909063e-01,  2.44997430e+00,  3.59738141e-01, -2.25275087e+00,\n",
              "              -2.70755363e+00, -1.43257987e+00,  1.07531822e+00, -2.74660349e-01,\n",
              "               1.04008339e-01, -1.69307828e+00,  1.65397823e+00,  8.05755377e-01,\n",
              "              -1.31923640e+00,  1.54350817e+00,  1.48305273e+00,  1.41027462e+00,\n",
              "               5.65904856e-01, -1.37638196e-01,  4.75512713e-01,  2.26391625e+00,\n",
              "              -3.14991665e+00, -1.31755364e+00,  1.46443695e-01,  2.07439139e-01,\n",
              "               1.65206343e-01, -1.55606651e+00,  1.59161913e+00, -2.23330903e+00,\n",
              "              -1.45320535e+00, -2.59241438e+00, -1.02709544e+00,  1.42871320e+00,\n",
              "               8.68106484e-01,  2.00686350e-01,  1.99004364e+00,  1.94488272e-01,\n",
              "               2.60680866e+00, -1.76730871e-01,  8.99909019e-01,  2.81532705e-01,\n",
              "              -1.25174725e+00,  1.00705540e+00,  1.73035097e+00, -2.14592978e-01,\n",
              "              -5.00238061e-01,  8.17719102e-01, -1.46421170e+00,  2.64966536e+00,\n",
              "               1.45530999e+00, -1.25397456e+00, -1.65056276e+00, -5.48960967e-03],\n",
              "             dtype=float32)                                                       ,\n",
              "       array([-1.4419098 ,  2.333012  , -2.0302525 ,  2.1737072 ,  3.8636289 ,\n",
              "               1.1787727 ,  0.24634902,  1.6456709 , -1.323744  , -1.5893221 ,\n",
              "               1.7309109 ,  2.3810363 , -4.152365  ,  0.59767413, -0.41175598,\n",
              "               2.263166  ,  2.5466912 , -1.3361989 , -0.6237039 , -0.8527702 ,\n",
              "               0.23810203, -3.3882613 ,  1.5956199 ,  0.58893   ,  2.5552077 ,\n",
              "              -0.77493805, -1.2420542 ,  1.4099209 , -1.838369  , -0.77410513,\n",
              "               0.10948737,  0.40107894, -1.1118151 , -1.730406  , -0.40813288,\n",
              "              -2.4930186 , -0.23138304, -0.23291802, -0.86333305,  1.6781151 ,\n",
              "               1.1301205 ,  0.8376549 ,  0.17182697,  0.599145  , -2.472589  ,\n",
              "              -0.264782  ,  2.5121498 , -1.3549932 , -0.34908897,  3.942492  ,\n",
              "              -0.67503595,  0.258276  , -1.9288241 , -5.154185  , -1.7360522 ,\n",
              "               1.443761  , -0.20464401, -0.17268296,  0.6267451 ,  1.6993821 ,\n",
              "              -1.3735391 ,  0.10007596, -0.7624536 ,  1.4414771 ,  4.09579   ,\n",
              "               0.36264998, -1.6023979 , -2.6676493 , -1.118904  ,  1.9057581 ,\n",
              "              -1.0480089 , -1.3108575 , -1.4945599 ,  0.301369  , -0.434199  ,\n",
              "               1.8647768 , -0.3883012 ,  1.8556392 , -2.7462468 ,  0.46617275,\n",
              "              -3.1003213 , -2.6060622 , -0.616078  ,  2.7288597 ,  0.7928499 ,\n",
              "              -0.29808503, -1.268155  , -1.7375717 ,  0.09440431, -0.90673006,\n",
              "               0.41918498,  1.1954795 ,  0.18912998, -0.6187179 ,  1.3373954 ,\n",
              "              -0.745504  ,  0.90509015, -1.312958  ,  0.19586603,  2.6483207 ,\n",
              "               2.1551018 ,  0.780877  ,  2.5314403 ,  0.915925  , -2.1384673 ,\n",
              "               1.9801954 ,  1.2361971 , -1.4228268 , -0.6846239 , -5.360951  ,\n",
              "               3.169177  ,  0.02738294, -1.900903  , -0.8461989 ,  0.96733844,\n",
              "               0.6395618 , -1.6174749 , -1.1456501 , -0.17656597, -1.8163248 ,\n",
              "              -1.308397  , -3.416074  ,  2.289132  , -1.306502  ,  2.493651  ,\n",
              "              -1.6736038 ,  2.990585  , -0.6902981 ,  0.74591   , -0.99007607,\n",
              "              -3.081369  , -1.344425  ,  2.401095  ,  0.6228281 ,  0.31392187,\n",
              "               0.33226502, -3.3257644 ,  1.124141  ,  1.5502    , -1.0440171 ,\n",
              "              -1.4823968 , -2.10035   , -0.419066  ,  0.4238801 ,  1.115363  ,\n",
              "               3.796908  , -4.139566  ,  1.5873195 , -0.6581569 ,  0.8509054 ,\n",
              "              -1.4428989 ,  2.28457   , -1.34816   , -0.817449  , -0.60945666,\n",
              "              -1.0451082 ,  1.5265261 , -0.64536494, -1.6136261 , -0.51825106,\n",
              "              -0.27467597, -2.1583214 , -1.904748  ,  1.91209   , -2.494203  ,\n",
              "              -1.1185011 , -5.21009   ,  1.1613319 ,  2.0229328 , -1.218845  ,\n",
              "              -1.4658101 ,  0.23863599,  0.14300703,  0.13636397,  0.423602  ,\n",
              "               1.9244301 , -0.09246488, -1.9508522 , -2.784448  , -2.7922034 ,\n",
              "               1.5736618 ,  1.210686  , -0.2111949 , -0.08813798,  0.16660997,\n",
              "               1.6689999 , -2.299675  ,  1.1501371 ,  2.163434  , -0.027855  ,\n",
              "               2.7781928 , -1.7152951 , -0.5825571 ,  0.52642095, -1.2799908 ,\n",
              "               2.0366158 , -2.1317348 ,  0.35404602, -1.7151012 ,  1.7030216 ,\n",
              "              -3.3223977 , -2.8525581 , -0.816152  , -2.2904847 ,  3.0297701 ,\n",
              "               0.5986029 , -2.0882702 ,  2.0721755 ,  0.25855407, -0.5578059 ,\n",
              "               0.01137435, -0.6862341 , -2.0144508 ,  0.587154  ,  0.91643274,\n",
              "               1.4629515 ,  1.377648  , -1.4507487 ,  1.43247   , -0.263407  ,\n",
              "              -1.1112676 ,  0.23520105, -0.54130995, -1.9932921 , -0.7060424 ,\n",
              "              -0.7939537 , -0.92040503,  0.70129603, -1.818553  , -0.14685932,\n",
              "               2.8380404 , -0.55435103, -0.74798214, -0.95144796,  2.3898797 ,\n",
              "               1.1262159 , -1.33262   ,  0.49348545, -0.28999814, -0.542838  ,\n",
              "              -0.73450696, -1.619396  ,  1.8701369 , -1.475459  , -1.7434511 ,\n",
              "               2.303185  , -0.11414503, -1.6639    , -1.6654761 ,  1.315169  ,\n",
              "               1.3066431 , -2.278228  , -2.6297789 , -2.7555406 ,  0.992417  ,\n",
              "              -0.92763007,  2.46202   , -2.68407   ,  0.671261  ,  1.9384807 ,\n",
              "              -0.29106623,  4.2990427 ,  3.0641217 ,  3.247583  ,  1.508199  ,\n",
              "              -0.9563271 , -0.76843   ,  2.017205  , -1.5213151 , -1.250632  ,\n",
              "              -3.9547477 ,  0.92750806,  1.4181349 , -2.7296019 ,  1.800238  ,\n",
              "              -1.7935559 , -0.98720896, -1.373636  , -0.782281  ,  1.753211  ,\n",
              "               2.5985322 ,  0.15365554, -0.916386  ,  0.34278095, -0.91448724,\n",
              "               0.698406  ,  0.9853881 ,  2.2495203 ,  1.2223709 ,  0.728927  ,\n",
              "               1.1055511 ,  0.35775197, -0.7350172 , -0.34172797, -1.5080216 ,\n",
              "               0.5977031 ,  1.8902439 , -0.97568715, -1.821297  ,  1.0382142 ],\n",
              "             dtype=float32)                                                    ,\n",
              "       array([ 0.557869  ,  2.2574153 ,  0.1913623 , -0.04189841,  2.6422808 ,\n",
              "              -1.3681747 ,  0.2319677 ,  0.4458723 , -2.3434217 , -0.5257901 ,\n",
              "               0.47220394,  0.84757954, -1.7214653 , -1.3912092 , -1.2070553 ,\n",
              "               0.39116383,  0.10300838, -1.6630152 ,  1.0947552 ,  3.5911076 ,\n",
              "              -1.5927808 , -1.124674  ,  1.699079  , -1.3394316 ,  1.5534225 ,\n",
              "               0.73283076, -0.28842226,  0.73158157,  1.4588711 , -0.99688   ,\n",
              "               0.0645254 ,  0.5634139 ,  1.01635   ,  1.469537  , -1.9310759 ,\n",
              "              -1.5587094 ,  0.08074476, -0.62205034, -0.37846845,  2.7924654 ,\n",
              "              -0.84412694, -0.05870769, -0.6760694 ,  2.4107938 , -3.6779275 ,\n",
              "               0.41995922, -0.68912303,  0.66468465, -1.195832  ,  4.1101236 ,\n",
              "              -1.3600211 ,  0.70889306,  2.0775447 , -1.9990224 , -0.25052798,\n",
              "              -1.3284999 , -1.469959  ,  0.19604537,  0.00530518, -0.6659923 ,\n",
              "               3.7654276 , -1.0332326 , -1.3166008 , -0.731131  ,  3.231454  ,\n",
              "               0.5783277 , -2.3926399 , -2.7775743 ,  0.38889343,  0.7819278 ,\n",
              "               0.8849477 , -1.6408157 , -0.04273233,  1.0018039 ,  1.1607261 ,\n",
              "              -1.6379923 , -0.20614327,  0.56275153, -0.76215994, -1.4763278 ,\n",
              "              -0.2994545 , -1.3829346 , -0.705377  ,  2.364699  , -0.29266214,\n",
              "               0.83849615, -2.7180886 ,  0.14512695, -0.6991262 ,  1.6899607 ,\n",
              "              -1.092744  , -0.6572292 ,  1.11155   ,  1.4185923 ,  0.28847945,\n",
              "              -1.5912629 , -2.503761  ,  1.5677247 ,  2.6490083 ,  1.1731461 ,\n",
              "               1.1236169 ,  0.02543724,  3.1058092 ,  2.6506283 , -1.8507476 ,\n",
              "               0.77149457,  1.6290853 ,  0.5694262 , -0.62118924, -1.7768776 ,\n",
              "              -0.9225468 , -0.58281654, -0.5984823 , -1.494096  ,  1.4103484 ,\n",
              "               1.5431437 , -1.591303  ,  0.8903062 , -0.63496155,  1.7459168 ,\n",
              "              -0.61330914, -0.42848158,  0.68622863,  0.36821395,  2.0735955 ,\n",
              "               0.35762155,  3.0497653 , -1.2682847 , -0.35560843, -0.81009763,\n",
              "              -0.63918614, -0.9968862 ,  2.0658324 , -1.8365039 , -0.76161325,\n",
              "              -1.1953702 , -0.00471225, -0.2711476 ,  2.2113585 , -0.3441539 ,\n",
              "              -2.2829452 ,  0.09189801, -0.75896233,  1.3419299 , -1.4293092 ,\n",
              "               0.3813085 , -1.7946154 ,  1.9840598 , -0.7607308 ,  0.43553764,\n",
              "               0.29047486,  1.8053254 ,  0.13708001,  2.5006921 , -3.409456  ,\n",
              "               0.83389384,  0.9252523 ,  1.2617968 , -1.9688562 , -2.3062034 ,\n",
              "               0.23139916, -3.0081766 , -3.5759215 ,  1.06708   , -1.2607099 ,\n",
              "              -1.2588592 , -2.3632646 ,  1.1576754 , -1.7705392 , -1.4966376 ,\n",
              "               1.0684011 , -0.6160063 ,  2.3426332 ,  1.7394576 ,  2.0132601 ,\n",
              "               0.96974915,  1.4688294 ,  0.57865614,  0.32587698, -1.2155163 ,\n",
              "               0.01424621,  2.551703  ,  1.3914255 ,  1.9647154 ,  1.2126516 ,\n",
              "               0.4634973 , -0.4850652 , -1.0348194 ,  1.5124531 ,  1.6282461 ,\n",
              "               2.2671306 ,  2.2084208 , -0.23061463,  3.888183  , -2.0626013 ,\n",
              "              -0.583903  ,  0.3736994 ,  0.7079041 ,  0.8430054 ,  3.7746477 ,\n",
              "              -0.776763  , -0.7955977 , -0.97735035, -0.520762  , -1.3041953 ,\n",
              "              -0.83504075,  2.15877   ,  0.85537994,  0.7809553 , -1.7837677 ,\n",
              "              -1.3007884 , -1.1545216 , -0.40733844,  0.75011325, -0.41100305,\n",
              "               2.274903  , -1.1968877 ,  1.1368546 ,  2.3517466 ,  2.4992113 ,\n",
              "               0.67970455, -0.90911156,  0.55111927,  1.1284608 , -1.0226656 ,\n",
              "               0.80504614,  1.3408101 ,  2.5976346 , -0.44289523,  1.0740166 ,\n",
              "              -0.63629603, -0.6614443 , -3.588956  , -2.508139  ,  0.4610918 ,\n",
              "              -0.35495076, -0.54250467,  1.4854742 , -0.2206985 , -0.5411991 ,\n",
              "               2.3796945 ,  0.6680206 ,  3.2712114 , -0.2852615 ,  0.33179075,\n",
              "               0.43669236,  0.07254615, -3.0917194 , -4.0276303 ,  0.21579394,\n",
              "              -0.5477607 , -1.4845862 , -1.9727461 ,  0.20156318,  1.5407981 ,\n",
              "              -1.9330224 ,  2.564102  , -2.4926076 , -1.4511687 ,  2.6261952 ,\n",
              "              -0.46673614, -0.4887583 ,  1.6883229 ,  1.424597  , -0.23176885,\n",
              "               0.9425077 , -0.77496916,  0.04532392,  0.02019732, -1.0881462 ,\n",
              "              -1.4423206 ,  1.117631  ,  0.9896656 ,  0.07459459,  0.34084842,\n",
              "              -0.0267115 , -1.4597157 , -1.0640016 , -1.6767745 ,  4.508483  ,\n",
              "              -1.126149  ,  0.46506074, -1.6347516 ,  0.23478931,  0.33607858,\n",
              "              -0.71923864,  3.6723692 ,  1.6164169 , -0.28272232, -1.4091216 ,\n",
              "               1.2246424 , -1.9793239 ,  0.91188747, -0.07636536, -3.4255197 ,\n",
              "              -0.03178846,  1.470563  , -0.43685085, -2.6213293 ,  0.30550385],\n",
              "             dtype=float32)                                                    ,\n",
              "       ...,\n",
              "       array([-6.1292523e-01,  9.2750365e-01,  5.5790073e-01,  1.1630958e+00,\n",
              "               3.3171418e+00,  4.2848781e-01,  8.3801126e-01, -1.9264578e+00,\n",
              "              -2.6906705e-01, -1.7444884e+00,  2.4172916e+00,  3.3144531e-01,\n",
              "              -2.1341224e+00, -2.0337692e-01,  3.0040558e-02, -7.2893210e-02,\n",
              "               4.0544567e-01,  7.8577620e-01, -1.4746597e+00, -1.4295735e+00,\n",
              "              -5.1565641e-01, -8.6781055e-01,  2.0270060e-01,  1.0087512e+00,\n",
              "               3.0460720e+00, -3.9241064e-01, -1.4602382e+00,  1.8545125e-01,\n",
              "              -5.2101290e-01, -6.2346774e-01,  2.2839115e+00,  3.0283403e-01,\n",
              "              -3.2327172e-01, -4.5228878e-01, -3.0018785e+00, -1.0423454e+00,\n",
              "               2.3919481e-01, -1.5943998e-01, -1.9111016e+00, -1.3794875e+00,\n",
              "               2.3824232e+00, -2.1905274e+00, -2.2992516e+00,  1.5598909e+00,\n",
              "              -3.2296906e+00,  9.8476464e-01, -1.0702761e-01, -1.4563239e-01,\n",
              "              -5.5167234e-01, -2.4693310e-01, -3.0236351e-01, -1.0287594e+00,\n",
              "              -9.5623946e-01, -3.4070225e+00, -1.1808110e+00,  3.1395419e+00,\n",
              "              -1.3724877e+00, -1.2956388e+00,  2.2008984e+00,  8.5405409e-02,\n",
              "               3.5649210e-02, -1.5442829e+00, -2.7197940e-02, -4.0699313e-03,\n",
              "               3.9055085e+00,  1.3541836e+00, -2.5633788e+00, -2.3040066e+00,\n",
              "               4.2762542e-01, -1.8701763e-01, -8.2202756e-01,  8.2700014e-01,\n",
              "              -3.3595881e-01,  1.4484707e+00, -5.3060547e-02,  5.1794559e-01,\n",
              "               2.9281774e-01,  1.6241285e+00, -1.8782824e+00,  1.9130951e+00,\n",
              "              -9.0184772e-01,  8.4583247e-01, -1.3476666e+00,  2.3962002e+00,\n",
              "               1.6757689e+00, -3.8817233e-01, -2.1490588e+00, -1.0047505e+00,\n",
              "              -8.3200020e-01, -4.3987548e-01,  1.8084517e+00,  1.2243102e+00,\n",
              "               1.4263365e+00,  4.9175999e-01, -1.8622031e+00,  9.7800589e-01,\n",
              "               2.0417121e-01, -8.2061476e-01,  8.9074112e-02,  1.1982832e+00,\n",
              "               1.2104834e+00, -2.3005854e-02,  2.6111467e+00,  1.8028911e+00,\n",
              "              -4.6811986e-01,  1.9330615e+00,  1.9299777e+00, -3.4286058e-01,\n",
              "              -6.4513177e-01, -3.1588149e+00,  1.4624951e+00,  4.8980707e-01,\n",
              "              -1.5522662e+00,  2.5359407e-02,  1.0509119e+00,  6.2548853e-02,\n",
              "               3.8677987e-01, -1.2593263e+00,  2.9596969e-01, -1.0374237e+00,\n",
              "              -1.9166256e-01, -1.1778188e+00,  3.5414093e+00, -9.9852306e-01,\n",
              "               5.4590344e-01, -2.1739423e+00,  6.2513238e-01, -4.6626887e+00,\n",
              "               2.3926337e+00, -1.1697177e+00, -4.0464382e+00,  2.8635764e-01,\n",
              "               2.2043877e+00,  1.7704229e+00,  2.6150236e-01, -3.1225652e-01,\n",
              "              -2.2142084e+00,  1.2011905e+00, -1.9682770e+00,  4.0985128e-01,\n",
              "               5.2678902e-02, -1.4235158e+00, -8.5137808e-01,  2.6955768e-01,\n",
              "               1.0977988e+00,  3.0823188e+00, -3.0700169e+00,  1.4593796e+00,\n",
              "              -1.3116266e+00,  1.9137815e+00,  6.9271344e-01,  3.6921234e+00,\n",
              "               5.3831470e-01,  5.9931707e-01, -3.2137814e+00,  2.2405411e-01,\n",
              "               1.1186782e+00, -4.0670356e-01,  8.2650173e-01, -1.6419687e+00,\n",
              "              -3.0434748e-02,  1.3320537e-01, -1.1310676e+00,  4.2599602e+00,\n",
              "              -1.8057330e+00, -1.8086582e+00, -3.1999435e+00, -1.1870023e+00,\n",
              "               1.1565694e+00, -2.3527427e+00, -9.1773653e-01, -2.9900616e-01,\n",
              "               1.1329337e+00,  1.8699794e+00, -4.5445803e-01, -1.3623166e-01,\n",
              "               8.8946187e-01, -6.5957761e-01, -7.9470181e-01, -9.2275536e-01,\n",
              "               4.2510247e-01,  1.4995018e+00, -1.9263382e+00, -1.3310007e+00,\n",
              "              -5.8049774e-01,  2.9890268e+00, -2.5005648e+00,  3.0514584e+00,\n",
              "               1.4824771e+00, -1.3014494e+00,  2.0845404e+00, -1.0456624e+00,\n",
              "               2.2909580e-01, -1.1379424e+00,  3.5365483e-01,  2.5412772e+00,\n",
              "              -3.1844268e+00, -1.2761301e+00, -8.4716111e-01, -2.8115273e-02,\n",
              "              -1.9602493e+00,  9.5264691e-01,  7.4022764e-01, -1.6534865e+00,\n",
              "               2.3468122e+00, -1.8940071e+00, -2.1800880e+00,  1.5424558e+00,\n",
              "               6.2379593e-01, -1.1924263e+00,  3.1332819e+00,  2.0028160e+00,\n",
              "              -1.7307543e+00, -7.0750993e-01,  9.0787746e-02,  1.9769124e+00,\n",
              "               2.1879982e-02, -3.4843273e+00,  5.9343767e-01,  3.4238791e-01,\n",
              "              -1.2901305e+00,  1.7172914e+00, -2.0148127e+00, -2.0079708e+00,\n",
              "              -2.5047529e+00,  5.6457704e-01,  1.1562260e+00,  2.1344354e+00,\n",
              "              -1.3801951e+00,  1.4858547e+00,  2.7672174e+00,  1.9056560e+00,\n",
              "              -5.7611126e-01,  7.4513650e-01,  8.4672886e-01,  1.1122972e+00,\n",
              "              -1.4850094e+00, -8.1783676e-01, -3.5260978e-01,  4.9039197e-01,\n",
              "               1.9735588e+00, -1.4700812e+00,  3.3262310e+00, -8.8332289e-01,\n",
              "              -1.6139495e+00,  2.7598214e+00, -1.5295508e+00, -6.6321224e-01,\n",
              "              -2.6801550e+00, -6.4397343e-02,  4.6410057e-01, -4.6146593e+00,\n",
              "              -3.9179471e-01, -1.5891858e+00,  2.3294122e+00, -1.3542297e+00,\n",
              "               7.5040764e-01, -8.8116062e-01,  1.3291764e-01,  1.2467159e+00,\n",
              "              -6.0284179e-01,  2.6001222e+00,  4.0070028e+00,  7.8421855e-01,\n",
              "               1.7042606e+00,  6.6810536e-01, -6.1517090e-01,  4.3917605e-01,\n",
              "               2.1490063e-01, -3.4827833e+00, -2.0518486e+00,  1.0953155e+00,\n",
              "               3.7042575e+00, -1.2768741e+00,  2.8376722e+00, -2.5637581e+00,\n",
              "              -2.6116748e+00, -2.6089714e+00, -1.4323194e+00,  1.0067946e+00,\n",
              "               1.6990070e+00,  1.1736766e-01, -3.4011537e-01, -2.0594408e-01,\n",
              "              -1.0220222e+00,  2.9862943e-01,  5.6719637e-01,  5.6627476e-01,\n",
              "               1.8536249e+00, -3.4330466e-01,  7.1364528e-01, -1.0810695e+00,\n",
              "               2.8700015e-02, -5.9089524e-01, -1.0815417e+00,  1.8959059e+00,\n",
              "              -6.0070473e-01, -3.5802994e+00, -2.6442382e+00,  1.6338906e+00],\n",
              "             dtype=float32)                                                   ,\n",
              "       array([ 0.08539355,  1.8890979 , -3.357403  ,  1.223398  ,  1.2051607 ,\n",
              "               0.92421013,  1.7993029 ,  0.46153066, -2.2110891 , -0.11829569,\n",
              "               1.2534236 , -1.917022  , -2.5132384 ,  0.44988918, -2.2741697 ,\n",
              "              -1.9048358 ,  1.5512499 , -1.6296729 , -2.5622485 , -0.45112148,\n",
              "               0.9955028 ,  0.8133764 ,  0.41714433,  0.50469106,  0.49877986,\n",
              "              -0.9551707 , -1.7251972 , -0.4406286 , -1.0332065 , -1.6083257 ,\n",
              "              -0.88907194,  2.7035813 ,  1.5900906 ,  1.0380558 , -0.20126002,\n",
              "              -3.6259172 ,  2.5038013 , -0.05017785,  0.24557444,  1.9616371 ,\n",
              "              -0.8595529 , -0.38716793,  0.17941777,  3.7582638 , -3.0946193 ,\n",
              "              -0.5973714 , -0.3938996 , -0.4107371 ,  0.33006907, -0.17803167,\n",
              "              -1.6676387 , -1.8230169 , -1.465846  , -3.6927392 , -3.393621  ,\n",
              "               0.61013716,  0.7974958 , -0.4642715 ,  0.95199025,  0.0837597 ,\n",
              "               0.75681126,  1.3643036 ,  0.6343727 , -0.01516641,  3.4074845 ,\n",
              "              -0.0748071 , -2.0844216 , -0.12444437, -0.6734715 ,  0.01587433,\n",
              "              -0.5955222 , -0.50085557,  0.1299164 ,  1.161515  , -1.4470215 ,\n",
              "               2.3702824 , -0.19424497,  2.2105992 , -0.63436496,  1.7025329 ,\n",
              "              -0.3906893 , -0.6411107 , -0.11262477,  1.0877535 , -0.07793282,\n",
              "               0.21018852, -1.737645  , -0.9305814 , -2.1702876 ,  1.4615737 ,\n",
              "              -1.064858  ,  2.7732675 ,  0.32036647, -1.5893214 ,  1.3659054 ,\n",
              "               0.71292436,  0.43929434,  1.8415956 ,  1.0395894 , -0.7111751 ,\n",
              "               0.7161564 , -1.9253355 ,  1.672288  , -1.956     , -0.79949206,\n",
              "               0.52290744, -1.5104678 , -0.9778415 ,  1.3081733 , -2.4197834 ,\n",
              "               0.9855601 ,  1.0557234 ,  0.6914678 ,  2.1063056 ,  0.85072935,\n",
              "               0.24257788, -1.8037415 , -0.9247297 ,  3.013863  , -0.9118406 ,\n",
              "               0.02118419, -3.337126  ,  0.32542858,  1.62766   ,  1.6005999 ,\n",
              "              -0.11650646,  1.8528229 , -0.5849114 ,  0.5541207 , -0.2454836 ,\n",
              "              -4.1955714 , -0.56068724,  2.3794856 ,  0.88992494, -2.9030838 ,\n",
              "              -0.11907788, -0.17113368,  1.7884706 , -1.1198393 , -1.0249809 ,\n",
              "              -0.7752821 , -2.396763  ,  2.5337026 ,  0.48298174, -0.5056526 ,\n",
              "               1.2042369 ,  0.27777573,  1.5146531 , -1.0451479 , -0.27026   ,\n",
              "               0.03907362,  1.727703  , -0.7396029 ,  1.110268  ,  0.8594821 ,\n",
              "              -0.31542635,  2.84788   , -0.27309373,  0.33353996, -1.9479868 ,\n",
              "               3.3822381 ,  2.749328  , -1.4100829 ,  0.5458519 , -2.549303  ,\n",
              "               0.38108847, -1.9879143 , -0.0611029 ,  1.1842546 , -0.2164428 ,\n",
              "              -0.64270633, -0.49957496, -1.4965115 ,  1.0702542 ,  1.0817298 ,\n",
              "               2.1027205 , -1.1565533 ,  0.15190841, -2.1189065 , -1.9572915 ,\n",
              "              -4.0375643 ,  2.0897458 , -0.98717153, -2.4844012 , -0.44740844,\n",
              "               1.2445304 , -1.2712672 ,  1.4864014 ,  1.2651594 , -0.3166346 ,\n",
              "               0.6146386 , -0.4621785 , -1.6172354 ,  0.30003995,  1.8269571 ,\n",
              "               1.368595  , -0.37016815, -2.6811736 , -2.3158002 ,  2.922445  ,\n",
              "              -1.2869465 , -0.5411871 , -1.5528022 ,  0.73916143,  2.803375  ,\n",
              "              -1.0094578 , -1.1039194 , -2.154533  ,  1.0282214 , -0.55962557,\n",
              "              -1.4390622 , -1.366875  ,  2.0060222 , -1.4102211 ,  0.6861614 ,\n",
              "               1.4522315 ,  2.7873383 , -1.7376443 , -0.84247214, -0.3357565 ,\n",
              "               0.5423186 ,  0.42639136,  0.6518573 , -4.090022  , -0.88795745,\n",
              "              -1.9391549 ,  1.4133999 ,  0.3711343 , -0.9075099 ,  0.1208021 ,\n",
              "              -0.10857709, -0.04310713, -0.55625093, -0.44092748,  0.1109679 ,\n",
              "               1.1482365 ,  0.6320971 ,  1.1039463 ,  1.3050271 ,  0.28448895,\n",
              "              -1.292143  , -0.9280857 ,  2.167032  ,  0.70558196,  0.8754808 ,\n",
              "               3.136682  ,  0.83118063, -1.24395   ,  2.2461107 , -1.6261293 ,\n",
              "              -2.4861238 , -1.2797222 ,  0.1120287 , -1.9019986 ,  1.3416386 ,\n",
              "              -0.62593275,  0.7261492 , -1.6559923 ,  0.6180293 , -0.98952496,\n",
              "              -0.6816152 ,  0.471695  ,  1.6710936 ,  0.79149514, -0.04036284,\n",
              "              -0.33094576, -0.51121247,  2.0670428 , -1.2096893 , -0.9495979 ,\n",
              "              -0.47269353,  2.2772706 ,  0.4174213 , -0.2692907 ,  0.18735096,\n",
              "              -0.9174407 , -2.037367  , -1.6318578 , -0.7929629 , -0.2916743 ,\n",
              "               2.4235313 ,  0.05094212,  0.5697729 , -0.57029426,  0.8100692 ,\n",
              "               1.8574415 ,  0.79817075,  1.9190673 , -0.28057492, -0.36385086,\n",
              "              -1.057979  , -0.8773285 , -0.24004921,  1.5508066 , -0.91304153,\n",
              "               0.509985  ,  1.0828686 ,  0.10696314, -1.1635935 ,  2.6888356 ],\n",
              "             dtype=float32)                                                    ,\n",
              "       array([-3.43843341e+00, -2.05131245e+00, -1.07786453e+00,  1.92791677e+00,\n",
              "               4.71562386e+00, -1.11416399e+00,  9.46303308e-01,  5.78330159e-01,\n",
              "               1.71720934e+00, -2.20172095e+00,  3.05928898e+00,  1.92603600e+00,\n",
              "              -1.21157229e+00, -1.48254788e+00, -3.85048002e-01,  2.30279088e+00,\n",
              "               1.54521835e+00,  3.68867469e+00, -8.32883418e-02,  7.87903249e-01,\n",
              "               5.56389093e-01, -8.01873207e-01, -5.47046006e-01,  2.43883610e+00,\n",
              "               2.75285172e+00, -5.63811362e-01, -5.85623324e-01,  1.29951328e-01,\n",
              "               9.13089395e-01, -8.86127472e-01,  8.01137924e-01, -2.08051264e-01,\n",
              "               2.50060725e+00,  7.65037477e-01, -2.10867262e+00, -2.03176737e+00,\n",
              "               5.17640054e-01,  7.03909993e-01, -1.72561467e+00, -1.48101056e+00,\n",
              "              -4.98021573e-01, -2.98867226e-01, -1.99111795e+00,  2.79655218e+00,\n",
              "              -9.58767354e-01, -4.85018045e-01, -1.49806738e+00,  5.45289934e-01,\n",
              "               1.23860490e+00,  1.52758092e-01, -1.85872531e+00,  1.76978123e+00,\n",
              "              -4.89839874e-02, -2.69727421e+00,  1.26656842e+00,  2.18991923e+00,\n",
              "              -9.49405313e-01,  3.27058174e-02, -1.15709114e+00, -1.03891599e+00,\n",
              "              -2.58521962e+00, -4.76820379e-01,  2.26957157e-01,  8.22741747e-01,\n",
              "               3.00239110e+00,  5.18892109e-01,  1.01279593e+00, -1.42174470e+00,\n",
              "              -7.10954517e-02,  5.90994656e-01,  9.60229263e-02,  9.83788669e-01,\n",
              "              -3.42534073e-02,  5.27150691e-01, -1.59746659e+00,  6.04662061e-01,\n",
              "              -3.04806739e-01,  1.79042518e+00, -1.77737725e+00,  4.16594714e-01,\n",
              "              -2.69921207e+00,  2.21558154e-01, -2.79000187e+00,  1.43603480e+00,\n",
              "               1.36083794e+00,  1.43508708e+00, -2.82952642e+00, -2.10178256e+00,\n",
              "               1.16954051e-01, -9.90724683e-01, -9.97819752e-02, -3.11113924e-01,\n",
              "               1.38454056e+00, -3.89314651e-01,  1.88982025e-01, -7.47098476e-02,\n",
              "               1.67923883e-01,  7.71000028e-01,  2.34075040e-01,  2.11492181e+00,\n",
              "               1.85419858e+00,  4.35418189e-01,  1.13857603e+00,  2.85649347e+00,\n",
              "              -1.02689946e+00,  2.93101335e+00,  2.20564651e+00, -2.12577748e+00,\n",
              "               5.07408023e-01, -1.76992404e+00,  2.24142480e+00,  9.85414147e-01,\n",
              "              -2.60442615e+00, -1.65161574e+00, -1.29387069e+00, -1.86683667e+00,\n",
              "              -1.50279200e+00,  1.31659472e+00, -7.55226731e-01, -9.47393954e-01,\n",
              "               1.38540864e+00, -3.36916327e+00,  3.99395275e+00,  1.27341256e-01,\n",
              "              -8.42517257e-01, -3.36620235e+00, -9.42695975e-01, -1.99744606e+00,\n",
              "               1.87556887e+00, -1.06070733e+00, -2.48861408e+00,  7.84429193e-01,\n",
              "               2.83509588e+00,  1.05699193e+00,  9.11217630e-01,  5.69694638e-01,\n",
              "               2.44508982e-02,  6.68569878e-02, -1.71899331e+00, -4.71738547e-01,\n",
              "               1.24771154e+00,  6.14272714e-01, -1.40787101e+00,  5.91249287e-01,\n",
              "               1.17280197e+00,  2.82980704e+00, -1.18519604e+00, -1.07800519e+00,\n",
              "              -6.84591651e-01,  1.36876523e+00,  8.03591907e-01,  6.86125934e-01,\n",
              "              -1.14441752e+00,  1.74241805e+00,  1.97760060e-01, -8.79254043e-01,\n",
              "               1.40397131e+00, -1.95470977e+00, -1.34418535e+00, -1.81807053e+00,\n",
              "               4.29937363e-01,  9.77682650e-01,  3.20509028e+00,  2.12679696e+00,\n",
              "              -1.21794939e+00,  2.15421945e-01, -2.48004127e+00,  1.42308772e-01,\n",
              "               2.11065936e+00,  1.81325686e+00, -1.44424033e+00, -1.83190119e+00,\n",
              "               1.37908685e+00,  4.12937135e-01, -1.47629905e+00,  1.61549759e+00,\n",
              "               1.25606644e+00, -2.21108079e+00, -2.55935931e+00, -1.38235581e+00,\n",
              "              -1.63933873e+00,  5.12000620e-01, -2.94210601e+00, -6.67328954e-01,\n",
              "               1.05829751e+00,  1.01464069e+00, -2.16760087e+00,  1.30869806e+00,\n",
              "              -1.78550339e+00, -3.40208411e-02,  1.14546698e-02, -2.06813669e+00,\n",
              "               1.01472533e+00, -2.19269228e+00,  2.10957479e+00,  3.42865658e+00,\n",
              "              -2.28805804e+00, -7.15478003e-01,  7.36189485e-01, -7.73460448e-01,\n",
              "              -7.09046870e-02, -3.67019325e-01, -1.99428037e-01, -1.71391916e+00,\n",
              "               4.17120457e+00, -1.21682785e-01, -2.23353720e+00,  3.04683995e+00,\n",
              "              -7.26142645e-01,  4.17952955e-01, -4.78638023e-01,  2.59143543e+00,\n",
              "              -2.97929907e+00, -2.11934838e-03,  1.37081122e+00,  4.62326676e-01,\n",
              "               1.96682596e+00, -2.50200319e+00,  1.55461386e-01,  7.37909734e-01,\n",
              "              -2.20896333e-01,  2.69706392e+00, -8.69623363e-01, -2.53839642e-01,\n",
              "              -2.10318708e+00,  1.05618274e+00, -2.89683878e-01,  8.78697395e-01,\n",
              "              -1.04976213e+00, -1.19885325e+00,  4.88945246e+00, -2.21113420e+00,\n",
              "              -1.17534864e+00,  2.24788213e+00,  1.59175527e+00, -3.41324687e-01,\n",
              "              -1.02207661e+00,  8.21206510e-01, -7.54007876e-01, -2.31245354e-01,\n",
              "               2.67910862e+00,  1.03688276e+00,  1.23125315e+00, -3.83536637e-01,\n",
              "              -1.33720732e+00,  1.19592655e+00, -1.26118851e+00,  3.75781894e-01,\n",
              "              -1.61565757e+00,  1.16537285e+00,  3.44488907e+00, -2.88864303e+00,\n",
              "              -1.61680794e+00, -1.37006605e+00, -5.60525477e-01,  1.69766724e-01,\n",
              "               1.45772326e+00, -8.34160686e-01,  8.23358774e-01, -5.58546744e-02,\n",
              "               1.82555333e-01,  2.22832227e+00,  2.57169843e+00,  5.41525245e-01,\n",
              "              -1.08234572e+00, -4.24989313e-01,  6.00499213e-01,  8.70563865e-01,\n",
              "               5.25730014e-01, -9.50253308e-01, -7.24415660e-01,  8.03304672e-01,\n",
              "               1.35364926e+00, -1.15976736e-01, -3.05201858e-01,  2.52936411e+00,\n",
              "               1.08914413e-01, -1.20071805e+00,  2.99777031e-01, -5.38466394e-01,\n",
              "               3.68080211e+00,  2.98459847e-02,  1.73623621e+00,  4.04985964e-01,\n",
              "              -7.46691287e-01, -3.51005602e+00,  8.99910927e-01,  1.06579065e+00,\n",
              "              -6.73364639e-01,  1.31410372e+00,  1.62191749e+00,  6.58103287e-01,\n",
              "              -7.72263944e-01,  1.29774916e+00, -1.30897963e+00,  1.70640945e+00,\n",
              "               2.31127453e+00, -2.86172891e+00, -2.20059436e-02,  1.31814384e+00],\n",
              "             dtype=float32)                                                       ],\n",
              "      dtype=object)"
            ]
          },
          "metadata": {},
          "execution_count": 73
        }
      ]
    },
    {
      "cell_type": "code",
      "source": [
        "concat_data[\"vector\"].to_numpy()[0]"
      ],
      "metadata": {
        "colab": {
          "base_uri": "https://localhost:8080/"
        },
        "id": "9-BMgk1URbPN",
        "outputId": "7785d389-1c93-4183-a063-8c9c03271c75"
      },
      "execution_count": 72,
      "outputs": [
        {
          "output_type": "execute_result",
          "data": {
            "text/plain": [
              "array([-2.05298352e+00, -5.69027007e-01, -3.14332819e+00,  5.59702754e-01,\n",
              "        2.34338737e+00,  6.11786425e-01, -5.86090982e-01,  3.75486827e+00,\n",
              "       -1.39141369e+00, -4.73719072e+00,  3.73624563e+00,  1.70822728e+00,\n",
              "       -2.79547262e+00,  1.69996536e+00, -5.22788227e-01,  2.64950371e+00,\n",
              "        1.50680625e+00, -7.95895338e-01, -7.25800037e-01,  2.62831807e-01,\n",
              "        1.59186256e+00, -4.63966280e-01,  5.17202735e-01, -2.06071448e+00,\n",
              "        4.77971852e-01, -1.81196892e+00, -7.55618155e-01, -2.83631831e-01,\n",
              "        3.97582710e-01,  1.01238358e+00, -9.20317233e-01, -5.43072641e-01,\n",
              "        1.01419830e+00, -1.16878462e+00, -2.02463293e+00, -2.49212241e+00,\n",
              "       -1.07076192e+00, -1.44277230e-01,  6.49407327e-01,  5.81057310e-01,\n",
              "        1.03119183e+00,  7.17255414e-01, -1.17987728e+00,  2.12526321e-01,\n",
              "       -1.71630239e+00,  4.22548177e-03, -4.83047217e-01, -2.35084891e+00,\n",
              "       -5.69853365e-01,  1.65974820e+00, -1.66478550e+00,  2.12221742e+00,\n",
              "        1.49578738e+00, -5.20719099e+00, -1.09032130e+00,  3.02891761e-01,\n",
              "       -1.65894163e+00,  6.87276423e-01,  1.99705195e+00, -1.58381081e+00,\n",
              "        1.66734648e+00,  3.26786399e-01,  1.15288913e+00, -2.09926438e+00,\n",
              "        2.69983077e+00,  1.29330719e+00, -2.74905419e+00, -1.99416625e+00,\n",
              "       -4.92135495e-01,  1.34506559e+00,  1.34404552e+00, -1.40839529e+00,\n",
              "       -9.02541876e-01,  2.95831740e-01,  1.42619073e-01,  2.09589934e+00,\n",
              "       -9.46166217e-01,  1.32566273e+00, -2.17187524e+00, -6.12271011e-01,\n",
              "       -2.96705461e+00,  7.00015068e-01,  1.59644270e+00,  2.27842641e+00,\n",
              "        1.09907997e+00, -1.46819103e+00, -7.59141862e-01, -3.48511720e+00,\n",
              "       -1.90794003e+00, -2.28180513e-01, -7.15440035e-01,  1.41550815e+00,\n",
              "        1.01948988e+00, -2.36857986e+00,  1.63021004e+00, -2.57920265e+00,\n",
              "        1.14687097e+00, -2.92065442e-01,  1.05308080e+00,  2.01720452e+00,\n",
              "        3.20911121e+00,  1.61343050e+00,  2.44580722e+00,  4.80544567e-01,\n",
              "        3.16423714e-01,  2.82782173e+00,  1.36730087e+00, -2.96439457e+00,\n",
              "       -8.97586286e-01, -2.85344720e+00,  1.43186367e+00,  2.90144473e-01,\n",
              "       -1.34186661e+00,  1.48370707e+00,  3.34894329e-01,  1.82024717e+00,\n",
              "       -2.16867995e+00, -2.17156625e+00,  1.94816455e-01,  1.32994640e+00,\n",
              "        3.54018547e-02, -7.73606360e-01,  1.15591276e+00,  1.26863830e-02,\n",
              "       -6.47889137e-01, -1.62843335e+00,  8.14423561e-01, -1.20319092e+00,\n",
              "        1.20349395e+00, -1.68875992e+00, -1.93427193e+00, -1.57239997e+00,\n",
              "        1.92490530e+00, -6.77916348e-01,  7.91766882e-01, -9.17185962e-01,\n",
              "       -2.58722830e+00, -2.84011275e-01,  2.48230386e+00, -1.99969900e+00,\n",
              "       -1.61225200e+00, -1.05690455e+00,  1.20895183e+00,  1.14924991e+00,\n",
              "       -4.84782666e-01,  1.38568830e+00, -3.95363379e+00, -2.12583637e+00,\n",
              "        3.84623647e-01, -5.52490838e-02, -1.18701947e+00,  6.83644831e-01,\n",
              "       -1.61442840e+00,  2.38910747e+00, -6.23343527e-01,  7.83955514e-01,\n",
              "        1.42659461e+00, -8.91364276e-01, -1.17472716e-01, -4.59867299e-01,\n",
              "        7.09053695e-01, -3.01966834e+00, -2.68515420e+00, -6.01743639e-01,\n",
              "       -2.44625902e+00, -8.41510832e-01, -2.49264812e+00,  1.07439972e-01,\n",
              "       -1.21917188e+00, -6.47169113e-01,  1.51362610e+00,  1.43706179e+00,\n",
              "       -3.07594299e-01,  1.04519971e-01,  3.00540924e-01,  7.37871766e-01,\n",
              "       -1.73126018e+00, -6.09684646e-01, -1.49709737e+00, -1.12954758e-01,\n",
              "       -8.67568731e-01,  2.07139444e+00,  3.26609969e-01,  2.51758122e+00,\n",
              "       -5.47988296e-01,  7.65169919e-01, -6.96843803e-01, -2.66895384e-01,\n",
              "        2.24329829e+00,  2.55632091e+00,  5.66001832e-01,  4.39679056e-01,\n",
              "       -3.22598338e+00, -1.00625753e+00,  7.02314556e-01,  2.95987815e-01,\n",
              "       -6.36250854e-01, -1.01209366e+00, -1.35178006e+00,  3.07914567e+00,\n",
              "       -3.90940934e-01, -1.31023991e+00,  7.69036934e-02,  6.78251207e-01,\n",
              "        2.90202641e+00,  9.63348210e-01, -2.69280791e+00,  1.41747749e+00,\n",
              "       -8.44879150e-01, -9.15932715e-01,  9.76280928e-01,  4.54383492e-01,\n",
              "       -2.68815637e+00,  5.36390007e-01,  1.56866837e+00,  2.14909458e+00,\n",
              "        1.44159305e+00, -2.54389000e+00,  2.54927248e-01,  5.10045350e-01,\n",
              "       -1.80307353e+00,  4.30848688e-01, -4.88941789e-01,  1.30502522e+00,\n",
              "        6.18482351e-01, -1.91837227e+00,  1.46726811e+00,  1.42727613e+00,\n",
              "       -1.01813996e+00,  1.30223620e+00,  4.24421883e+00, -1.71544826e+00,\n",
              "       -1.16607630e+00,  6.46572649e-01,  2.15759254e+00,  3.98188204e-01,\n",
              "       -4.06597912e-01,  4.39256757e-01,  5.84674597e-01, -9.24444795e-01,\n",
              "        1.05966187e+00,  1.57413864e+00,  1.77785885e+00, -6.79900423e-02,\n",
              "       -1.74193665e-01,  2.03265452e+00, -8.97910893e-01,  8.44145715e-01,\n",
              "        5.16909063e-01,  2.44997430e+00,  3.59738141e-01, -2.25275087e+00,\n",
              "       -2.70755363e+00, -1.43257987e+00,  1.07531822e+00, -2.74660349e-01,\n",
              "        1.04008339e-01, -1.69307828e+00,  1.65397823e+00,  8.05755377e-01,\n",
              "       -1.31923640e+00,  1.54350817e+00,  1.48305273e+00,  1.41027462e+00,\n",
              "        5.65904856e-01, -1.37638196e-01,  4.75512713e-01,  2.26391625e+00,\n",
              "       -3.14991665e+00, -1.31755364e+00,  1.46443695e-01,  2.07439139e-01,\n",
              "        1.65206343e-01, -1.55606651e+00,  1.59161913e+00, -2.23330903e+00,\n",
              "       -1.45320535e+00, -2.59241438e+00, -1.02709544e+00,  1.42871320e+00,\n",
              "        8.68106484e-01,  2.00686350e-01,  1.99004364e+00,  1.94488272e-01,\n",
              "        2.60680866e+00, -1.76730871e-01,  8.99909019e-01,  2.81532705e-01,\n",
              "       -1.25174725e+00,  1.00705540e+00,  1.73035097e+00, -2.14592978e-01,\n",
              "       -5.00238061e-01,  8.17719102e-01, -1.46421170e+00,  2.64966536e+00,\n",
              "        1.45530999e+00, -1.25397456e+00, -1.65056276e+00, -5.48960967e-03],\n",
              "      dtype=float32)"
            ]
          },
          "metadata": {},
          "execution_count": 72
        }
      ]
    },
    {
      "cell_type": "markdown",
      "source": [
        "# **SPLITTING DATA**"
      ],
      "metadata": {
        "id": "MMOJOfnuJPLC"
      }
    },
    {
      "cell_type": "code",
      "source": [
        "X_train, X_test, y_train, y_test = train_test_split(concat_data.vector, concat_data.label, test_size = 0.2, random_state = 42)"
      ],
      "metadata": {
        "id": "DPIF2gGDJQpK"
      },
      "execution_count": 14,
      "outputs": []
    },
    {
      "cell_type": "code",
      "source": [
        "print(X_train.shape, y_train.shape)\n",
        "print(X_test.shape, y_test.shape)"
      ],
      "metadata": {
        "colab": {
          "base_uri": "https://localhost:8080/"
        },
        "id": "slRCKSDMJVzD",
        "outputId": "df612e0e-baf9-4434-bc76-3e400839acfb"
      },
      "execution_count": 15,
      "outputs": [
        {
          "output_type": "stream",
          "name": "stdout",
          "text": [
            "(35918,) (35918,)\n",
            "(8980,) (8980,)\n"
          ]
        }
      ]
    },
    {
      "cell_type": "code",
      "source": [
        "X_train = np.stack(X_train)\n",
        "X_test = np.stack(X_test)"
      ],
      "metadata": {
        "id": "QEXkNk0wJk7L"
      },
      "execution_count": 16,
      "outputs": []
    },
    {
      "cell_type": "code",
      "source": [
        "X_train"
      ],
      "metadata": {
        "colab": {
          "base_uri": "https://localhost:8080/"
        },
        "id": "XI0CsR7IJlvU",
        "outputId": "816bc013-9de2-4287-b936-42cb2dcebed6"
      },
      "execution_count": 17,
      "outputs": [
        {
          "output_type": "execute_result",
          "data": {
            "text/plain": [
              "array([[-1.5993854 , -0.548297  ,  0.71646464, ..., -0.35849157,\n",
              "        -0.36722535, -1.260118  ],\n",
              "       [-1.0975764 ,  4.002905  , -1.5652748 , ...,  0.40516716,\n",
              "        -3.099633  ,  2.5089684 ],\n",
              "       [-1.5837793 , -1.0673419 ,  0.47997558, ...,  0.1183231 ,\n",
              "         0.37078312, -0.35408375],\n",
              "       ...,\n",
              "       [-0.1884757 , -1.9024603 , -2.2186658 , ..., -0.67746043,\n",
              "        -2.171252  , -0.9518237 ],\n",
              "       [-1.269032  ,  2.710764  , -5.4190874 , ...,  1.2490841 ,\n",
              "        -0.24373166,  4.1428823 ],\n",
              "       [ 0.85069716,  1.1924593 ,  0.31168061, ..., -2.5571926 ,\n",
              "        -2.1298437 ,  2.2762284 ]], dtype=float32)"
            ]
          },
          "metadata": {},
          "execution_count": 17
        }
      ]
    },
    {
      "cell_type": "code",
      "source": [
        "X_test"
      ],
      "metadata": {
        "colab": {
          "base_uri": "https://localhost:8080/"
        },
        "id": "XhzzhOzRJmUm",
        "outputId": "116ae56a-90cf-4ec1-cafc-599567f28527"
      },
      "execution_count": 18,
      "outputs": [
        {
          "output_type": "execute_result",
          "data": {
            "text/plain": [
              "array([[-0.10354284,  0.41933927, -0.5620885 , ...,  0.3207734 ,\n",
              "        -0.02178855, -1.0953954 ],\n",
              "       [-2.6222556 , -2.4855726 ,  1.8389508 , ..., -0.90803117,\n",
              "         0.89121366, -0.7767481 ],\n",
              "       [-1.2965555 ,  0.45058632, -0.5564325 , ...,  0.37193072,\n",
              "        -2.2558415 , -0.07499044],\n",
              "       ...,\n",
              "       [ 1.030638  ,  1.9809959 , -0.65504736, ...,  1.1037707 ,\n",
              "        -2.6422653 , -2.2342086 ],\n",
              "       [-0.20087436,  2.6316805 , -1.2005376 , ...,  0.2891084 ,\n",
              "        -1.5878594 ,  0.5413297 ],\n",
              "       [ 0.0293718 ,  1.7145482 ,  0.31517443, ...,  0.48755127,\n",
              "        -1.2352599 ,  1.5891824 ]], dtype=float32)"
            ]
          },
          "metadata": {},
          "execution_count": 18
        }
      ]
    },
    {
      "cell_type": "markdown",
      "source": [
        "# **K NEAREST NEIGHBORS**"
      ],
      "metadata": {
        "id": "GGo25ksCLLu9"
      }
    },
    {
      "cell_type": "code",
      "source": [
        "KNN = make_pipeline(MinMaxScaler(), KNeighborsClassifier())"
      ],
      "metadata": {
        "id": "T_VNZKP9LPLT"
      },
      "execution_count": 23,
      "outputs": []
    },
    {
      "cell_type": "code",
      "source": [
        "KNN.fit(X_train, y_train)"
      ],
      "metadata": {
        "colab": {
          "base_uri": "https://localhost:8080/",
          "height": 125
        },
        "id": "aL0AsSDwLZBt",
        "outputId": "29490899-0add-46e2-fd4b-b27a983e3b8d"
      },
      "execution_count": 24,
      "outputs": [
        {
          "output_type": "execute_result",
          "data": {
            "text/plain": [
              "Pipeline(steps=[('minmaxscaler', MinMaxScaler()),\n",
              "                ('kneighborsclassifier', KNeighborsClassifier())])"
            ],
            "text/html": [
              "<style>#sk-container-id-1 {color: black;background-color: white;}#sk-container-id-1 pre{padding: 0;}#sk-container-id-1 div.sk-toggleable {background-color: white;}#sk-container-id-1 label.sk-toggleable__label {cursor: pointer;display: block;width: 100%;margin-bottom: 0;padding: 0.3em;box-sizing: border-box;text-align: center;}#sk-container-id-1 label.sk-toggleable__label-arrow:before {content: \"▸\";float: left;margin-right: 0.25em;color: #696969;}#sk-container-id-1 label.sk-toggleable__label-arrow:hover:before {color: black;}#sk-container-id-1 div.sk-estimator:hover label.sk-toggleable__label-arrow:before {color: black;}#sk-container-id-1 div.sk-toggleable__content {max-height: 0;max-width: 0;overflow: hidden;text-align: left;background-color: #f0f8ff;}#sk-container-id-1 div.sk-toggleable__content pre {margin: 0.2em;color: black;border-radius: 0.25em;background-color: #f0f8ff;}#sk-container-id-1 input.sk-toggleable__control:checked~div.sk-toggleable__content {max-height: 200px;max-width: 100%;overflow: auto;}#sk-container-id-1 input.sk-toggleable__control:checked~label.sk-toggleable__label-arrow:before {content: \"▾\";}#sk-container-id-1 div.sk-estimator input.sk-toggleable__control:checked~label.sk-toggleable__label {background-color: #d4ebff;}#sk-container-id-1 div.sk-label input.sk-toggleable__control:checked~label.sk-toggleable__label {background-color: #d4ebff;}#sk-container-id-1 input.sk-hidden--visually {border: 0;clip: rect(1px 1px 1px 1px);clip: rect(1px, 1px, 1px, 1px);height: 1px;margin: -1px;overflow: hidden;padding: 0;position: absolute;width: 1px;}#sk-container-id-1 div.sk-estimator {font-family: monospace;background-color: #f0f8ff;border: 1px dotted black;border-radius: 0.25em;box-sizing: border-box;margin-bottom: 0.5em;}#sk-container-id-1 div.sk-estimator:hover {background-color: #d4ebff;}#sk-container-id-1 div.sk-parallel-item::after {content: \"\";width: 100%;border-bottom: 1px solid gray;flex-grow: 1;}#sk-container-id-1 div.sk-label:hover label.sk-toggleable__label {background-color: #d4ebff;}#sk-container-id-1 div.sk-serial::before {content: \"\";position: absolute;border-left: 1px solid gray;box-sizing: border-box;top: 0;bottom: 0;left: 50%;z-index: 0;}#sk-container-id-1 div.sk-serial {display: flex;flex-direction: column;align-items: center;background-color: white;padding-right: 0.2em;padding-left: 0.2em;position: relative;}#sk-container-id-1 div.sk-item {position: relative;z-index: 1;}#sk-container-id-1 div.sk-parallel {display: flex;align-items: stretch;justify-content: center;background-color: white;position: relative;}#sk-container-id-1 div.sk-item::before, #sk-container-id-1 div.sk-parallel-item::before {content: \"\";position: absolute;border-left: 1px solid gray;box-sizing: border-box;top: 0;bottom: 0;left: 50%;z-index: -1;}#sk-container-id-1 div.sk-parallel-item {display: flex;flex-direction: column;z-index: 1;position: relative;background-color: white;}#sk-container-id-1 div.sk-parallel-item:first-child::after {align-self: flex-end;width: 50%;}#sk-container-id-1 div.sk-parallel-item:last-child::after {align-self: flex-start;width: 50%;}#sk-container-id-1 div.sk-parallel-item:only-child::after {width: 0;}#sk-container-id-1 div.sk-dashed-wrapped {border: 1px dashed gray;margin: 0 0.4em 0.5em 0.4em;box-sizing: border-box;padding-bottom: 0.4em;background-color: white;}#sk-container-id-1 div.sk-label label {font-family: monospace;font-weight: bold;display: inline-block;line-height: 1.2em;}#sk-container-id-1 div.sk-label-container {text-align: center;}#sk-container-id-1 div.sk-container {/* jupyter's `normalize.less` sets `[hidden] { display: none; }` but bootstrap.min.css set `[hidden] { display: none !important; }` so we also need the `!important` here to be able to override the default hidden behavior on the sphinx rendered scikit-learn.org. See: https://github.com/scikit-learn/scikit-learn/issues/21755 */display: inline-block !important;position: relative;}#sk-container-id-1 div.sk-text-repr-fallback {display: none;}</style><div id=\"sk-container-id-1\" class=\"sk-top-container\"><div class=\"sk-text-repr-fallback\"><pre>Pipeline(steps=[(&#x27;minmaxscaler&#x27;, MinMaxScaler()),\n",
              "                (&#x27;kneighborsclassifier&#x27;, KNeighborsClassifier())])</pre><b>In a Jupyter environment, please rerun this cell to show the HTML representation or trust the notebook. <br />On GitHub, the HTML representation is unable to render, please try loading this page with nbviewer.org.</b></div><div class=\"sk-container\" hidden><div class=\"sk-item sk-dashed-wrapped\"><div class=\"sk-label-container\"><div class=\"sk-label sk-toggleable\"><input class=\"sk-toggleable__control sk-hidden--visually\" id=\"sk-estimator-id-1\" type=\"checkbox\" ><label for=\"sk-estimator-id-1\" class=\"sk-toggleable__label sk-toggleable__label-arrow\">Pipeline</label><div class=\"sk-toggleable__content\"><pre>Pipeline(steps=[(&#x27;minmaxscaler&#x27;, MinMaxScaler()),\n",
              "                (&#x27;kneighborsclassifier&#x27;, KNeighborsClassifier())])</pre></div></div></div><div class=\"sk-serial\"><div class=\"sk-item\"><div class=\"sk-estimator sk-toggleable\"><input class=\"sk-toggleable__control sk-hidden--visually\" id=\"sk-estimator-id-2\" type=\"checkbox\" ><label for=\"sk-estimator-id-2\" class=\"sk-toggleable__label sk-toggleable__label-arrow\">MinMaxScaler</label><div class=\"sk-toggleable__content\"><pre>MinMaxScaler()</pre></div></div></div><div class=\"sk-item\"><div class=\"sk-estimator sk-toggleable\"><input class=\"sk-toggleable__control sk-hidden--visually\" id=\"sk-estimator-id-3\" type=\"checkbox\" ><label for=\"sk-estimator-id-3\" class=\"sk-toggleable__label sk-toggleable__label-arrow\">KNeighborsClassifier</label><div class=\"sk-toggleable__content\"><pre>KNeighborsClassifier()</pre></div></div></div></div></div></div></div>"
            ]
          },
          "metadata": {},
          "execution_count": 24
        }
      ]
    },
    {
      "cell_type": "code",
      "source": [
        "y_pred = KNN.predict(X_test)"
      ],
      "metadata": {
        "id": "F_p71PShLcmM"
      },
      "execution_count": 25,
      "outputs": []
    },
    {
      "cell_type": "code",
      "source": [
        "print(classification_report(y_test, y_pred))"
      ],
      "metadata": {
        "colab": {
          "base_uri": "https://localhost:8080/"
        },
        "id": "fjEQrLEVLhOE",
        "outputId": "0eff02c7-efef-4f7b-b4ed-a1936d94554f"
      },
      "execution_count": 26,
      "outputs": [
        {
          "output_type": "stream",
          "name": "stdout",
          "text": [
            "              precision    recall  f1-score   support\n",
            "\n",
            "           0       0.99      1.00      0.99      4650\n",
            "           1       1.00      0.99      0.99      4330\n",
            "\n",
            "    accuracy                           0.99      8980\n",
            "   macro avg       0.99      0.99      0.99      8980\n",
            "weighted avg       0.99      0.99      0.99      8980\n",
            "\n"
          ]
        }
      ]
    },
    {
      "cell_type": "markdown",
      "source": [
        "# **LOGISTIC REGRESSION**"
      ],
      "metadata": {
        "id": "Qdb6a_ZXOc2T"
      }
    },
    {
      "cell_type": "code",
      "source": [
        "log_reg = make_pipeline(MinMaxScaler(), LogisticRegression(max_iter=int(1e4)))"
      ],
      "metadata": {
        "id": "J_mUJ4jxOc2a"
      },
      "execution_count": 33,
      "outputs": []
    },
    {
      "cell_type": "code",
      "source": [
        "log_reg.fit(X_train, y_train)"
      ],
      "metadata": {
        "colab": {
          "base_uri": "https://localhost:8080/",
          "height": 125
        },
        "outputId": "2c8e75ee-7b85-472b-bbc2-462c757b7e44",
        "id": "s5Gzp_aVOc2a"
      },
      "execution_count": 34,
      "outputs": [
        {
          "output_type": "execute_result",
          "data": {
            "text/plain": [
              "Pipeline(steps=[('minmaxscaler', MinMaxScaler()),\n",
              "                ('logisticregression', LogisticRegression(max_iter=10000))])"
            ],
            "text/html": [
              "<style>#sk-container-id-3 {color: black;background-color: white;}#sk-container-id-3 pre{padding: 0;}#sk-container-id-3 div.sk-toggleable {background-color: white;}#sk-container-id-3 label.sk-toggleable__label {cursor: pointer;display: block;width: 100%;margin-bottom: 0;padding: 0.3em;box-sizing: border-box;text-align: center;}#sk-container-id-3 label.sk-toggleable__label-arrow:before {content: \"▸\";float: left;margin-right: 0.25em;color: #696969;}#sk-container-id-3 label.sk-toggleable__label-arrow:hover:before {color: black;}#sk-container-id-3 div.sk-estimator:hover label.sk-toggleable__label-arrow:before {color: black;}#sk-container-id-3 div.sk-toggleable__content {max-height: 0;max-width: 0;overflow: hidden;text-align: left;background-color: #f0f8ff;}#sk-container-id-3 div.sk-toggleable__content pre {margin: 0.2em;color: black;border-radius: 0.25em;background-color: #f0f8ff;}#sk-container-id-3 input.sk-toggleable__control:checked~div.sk-toggleable__content {max-height: 200px;max-width: 100%;overflow: auto;}#sk-container-id-3 input.sk-toggleable__control:checked~label.sk-toggleable__label-arrow:before {content: \"▾\";}#sk-container-id-3 div.sk-estimator input.sk-toggleable__control:checked~label.sk-toggleable__label {background-color: #d4ebff;}#sk-container-id-3 div.sk-label input.sk-toggleable__control:checked~label.sk-toggleable__label {background-color: #d4ebff;}#sk-container-id-3 input.sk-hidden--visually {border: 0;clip: rect(1px 1px 1px 1px);clip: rect(1px, 1px, 1px, 1px);height: 1px;margin: -1px;overflow: hidden;padding: 0;position: absolute;width: 1px;}#sk-container-id-3 div.sk-estimator {font-family: monospace;background-color: #f0f8ff;border: 1px dotted black;border-radius: 0.25em;box-sizing: border-box;margin-bottom: 0.5em;}#sk-container-id-3 div.sk-estimator:hover {background-color: #d4ebff;}#sk-container-id-3 div.sk-parallel-item::after {content: \"\";width: 100%;border-bottom: 1px solid gray;flex-grow: 1;}#sk-container-id-3 div.sk-label:hover label.sk-toggleable__label {background-color: #d4ebff;}#sk-container-id-3 div.sk-serial::before {content: \"\";position: absolute;border-left: 1px solid gray;box-sizing: border-box;top: 0;bottom: 0;left: 50%;z-index: 0;}#sk-container-id-3 div.sk-serial {display: flex;flex-direction: column;align-items: center;background-color: white;padding-right: 0.2em;padding-left: 0.2em;position: relative;}#sk-container-id-3 div.sk-item {position: relative;z-index: 1;}#sk-container-id-3 div.sk-parallel {display: flex;align-items: stretch;justify-content: center;background-color: white;position: relative;}#sk-container-id-3 div.sk-item::before, #sk-container-id-3 div.sk-parallel-item::before {content: \"\";position: absolute;border-left: 1px solid gray;box-sizing: border-box;top: 0;bottom: 0;left: 50%;z-index: -1;}#sk-container-id-3 div.sk-parallel-item {display: flex;flex-direction: column;z-index: 1;position: relative;background-color: white;}#sk-container-id-3 div.sk-parallel-item:first-child::after {align-self: flex-end;width: 50%;}#sk-container-id-3 div.sk-parallel-item:last-child::after {align-self: flex-start;width: 50%;}#sk-container-id-3 div.sk-parallel-item:only-child::after {width: 0;}#sk-container-id-3 div.sk-dashed-wrapped {border: 1px dashed gray;margin: 0 0.4em 0.5em 0.4em;box-sizing: border-box;padding-bottom: 0.4em;background-color: white;}#sk-container-id-3 div.sk-label label {font-family: monospace;font-weight: bold;display: inline-block;line-height: 1.2em;}#sk-container-id-3 div.sk-label-container {text-align: center;}#sk-container-id-3 div.sk-container {/* jupyter's `normalize.less` sets `[hidden] { display: none; }` but bootstrap.min.css set `[hidden] { display: none !important; }` so we also need the `!important` here to be able to override the default hidden behavior on the sphinx rendered scikit-learn.org. See: https://github.com/scikit-learn/scikit-learn/issues/21755 */display: inline-block !important;position: relative;}#sk-container-id-3 div.sk-text-repr-fallback {display: none;}</style><div id=\"sk-container-id-3\" class=\"sk-top-container\"><div class=\"sk-text-repr-fallback\"><pre>Pipeline(steps=[(&#x27;minmaxscaler&#x27;, MinMaxScaler()),\n",
              "                (&#x27;logisticregression&#x27;, LogisticRegression(max_iter=10000))])</pre><b>In a Jupyter environment, please rerun this cell to show the HTML representation or trust the notebook. <br />On GitHub, the HTML representation is unable to render, please try loading this page with nbviewer.org.</b></div><div class=\"sk-container\" hidden><div class=\"sk-item sk-dashed-wrapped\"><div class=\"sk-label-container\"><div class=\"sk-label sk-toggleable\"><input class=\"sk-toggleable__control sk-hidden--visually\" id=\"sk-estimator-id-7\" type=\"checkbox\" ><label for=\"sk-estimator-id-7\" class=\"sk-toggleable__label sk-toggleable__label-arrow\">Pipeline</label><div class=\"sk-toggleable__content\"><pre>Pipeline(steps=[(&#x27;minmaxscaler&#x27;, MinMaxScaler()),\n",
              "                (&#x27;logisticregression&#x27;, LogisticRegression(max_iter=10000))])</pre></div></div></div><div class=\"sk-serial\"><div class=\"sk-item\"><div class=\"sk-estimator sk-toggleable\"><input class=\"sk-toggleable__control sk-hidden--visually\" id=\"sk-estimator-id-8\" type=\"checkbox\" ><label for=\"sk-estimator-id-8\" class=\"sk-toggleable__label sk-toggleable__label-arrow\">MinMaxScaler</label><div class=\"sk-toggleable__content\"><pre>MinMaxScaler()</pre></div></div></div><div class=\"sk-item\"><div class=\"sk-estimator sk-toggleable\"><input class=\"sk-toggleable__control sk-hidden--visually\" id=\"sk-estimator-id-9\" type=\"checkbox\" ><label for=\"sk-estimator-id-9\" class=\"sk-toggleable__label sk-toggleable__label-arrow\">LogisticRegression</label><div class=\"sk-toggleable__content\"><pre>LogisticRegression(max_iter=10000)</pre></div></div></div></div></div></div></div>"
            ]
          },
          "metadata": {},
          "execution_count": 34
        }
      ]
    },
    {
      "cell_type": "code",
      "source": [
        "y_pred = log_reg.predict(X_test)"
      ],
      "metadata": {
        "id": "KvjjbLsKOc2a"
      },
      "execution_count": 35,
      "outputs": []
    },
    {
      "cell_type": "code",
      "source": [
        "print(classification_report(y_test, y_pred))"
      ],
      "metadata": {
        "colab": {
          "base_uri": "https://localhost:8080/"
        },
        "outputId": "083cca42-c800-4503-a9e9-b8c2836bdb6e",
        "id": "VIu8y4JZOc2a"
      },
      "execution_count": 36,
      "outputs": [
        {
          "output_type": "stream",
          "name": "stdout",
          "text": [
            "              precision    recall  f1-score   support\n",
            "\n",
            "           0       1.00      1.00      1.00      4650\n",
            "           1       1.00      1.00      1.00      4330\n",
            "\n",
            "    accuracy                           1.00      8980\n",
            "   macro avg       1.00      1.00      1.00      8980\n",
            "weighted avg       1.00      1.00      1.00      8980\n",
            "\n"
          ]
        }
      ]
    },
    {
      "cell_type": "markdown",
      "source": [
        "# **DECISION TREE**"
      ],
      "metadata": {
        "id": "45kCoCwHO7Z7"
      }
    },
    {
      "cell_type": "code",
      "source": [
        "dec_tree = make_pipeline(MinMaxScaler(), DecisionTreeClassifier())"
      ],
      "metadata": {
        "id": "82Lri9XEO7Z7"
      },
      "execution_count": 37,
      "outputs": []
    },
    {
      "cell_type": "code",
      "source": [
        "dec_tree.fit(X_train, y_train)"
      ],
      "metadata": {
        "colab": {
          "base_uri": "https://localhost:8080/",
          "height": 125
        },
        "outputId": "c17fc1d9-6468-4100-f8aa-e1f469afdf35",
        "id": "zu1iROpBO7Z8"
      },
      "execution_count": 38,
      "outputs": [
        {
          "output_type": "execute_result",
          "data": {
            "text/plain": [
              "Pipeline(steps=[('minmaxscaler', MinMaxScaler()),\n",
              "                ('decisiontreeclassifier', DecisionTreeClassifier())])"
            ],
            "text/html": [
              "<style>#sk-container-id-4 {color: black;background-color: white;}#sk-container-id-4 pre{padding: 0;}#sk-container-id-4 div.sk-toggleable {background-color: white;}#sk-container-id-4 label.sk-toggleable__label {cursor: pointer;display: block;width: 100%;margin-bottom: 0;padding: 0.3em;box-sizing: border-box;text-align: center;}#sk-container-id-4 label.sk-toggleable__label-arrow:before {content: \"▸\";float: left;margin-right: 0.25em;color: #696969;}#sk-container-id-4 label.sk-toggleable__label-arrow:hover:before {color: black;}#sk-container-id-4 div.sk-estimator:hover label.sk-toggleable__label-arrow:before {color: black;}#sk-container-id-4 div.sk-toggleable__content {max-height: 0;max-width: 0;overflow: hidden;text-align: left;background-color: #f0f8ff;}#sk-container-id-4 div.sk-toggleable__content pre {margin: 0.2em;color: black;border-radius: 0.25em;background-color: #f0f8ff;}#sk-container-id-4 input.sk-toggleable__control:checked~div.sk-toggleable__content {max-height: 200px;max-width: 100%;overflow: auto;}#sk-container-id-4 input.sk-toggleable__control:checked~label.sk-toggleable__label-arrow:before {content: \"▾\";}#sk-container-id-4 div.sk-estimator input.sk-toggleable__control:checked~label.sk-toggleable__label {background-color: #d4ebff;}#sk-container-id-4 div.sk-label input.sk-toggleable__control:checked~label.sk-toggleable__label {background-color: #d4ebff;}#sk-container-id-4 input.sk-hidden--visually {border: 0;clip: rect(1px 1px 1px 1px);clip: rect(1px, 1px, 1px, 1px);height: 1px;margin: -1px;overflow: hidden;padding: 0;position: absolute;width: 1px;}#sk-container-id-4 div.sk-estimator {font-family: monospace;background-color: #f0f8ff;border: 1px dotted black;border-radius: 0.25em;box-sizing: border-box;margin-bottom: 0.5em;}#sk-container-id-4 div.sk-estimator:hover {background-color: #d4ebff;}#sk-container-id-4 div.sk-parallel-item::after {content: \"\";width: 100%;border-bottom: 1px solid gray;flex-grow: 1;}#sk-container-id-4 div.sk-label:hover label.sk-toggleable__label {background-color: #d4ebff;}#sk-container-id-4 div.sk-serial::before {content: \"\";position: absolute;border-left: 1px solid gray;box-sizing: border-box;top: 0;bottom: 0;left: 50%;z-index: 0;}#sk-container-id-4 div.sk-serial {display: flex;flex-direction: column;align-items: center;background-color: white;padding-right: 0.2em;padding-left: 0.2em;position: relative;}#sk-container-id-4 div.sk-item {position: relative;z-index: 1;}#sk-container-id-4 div.sk-parallel {display: flex;align-items: stretch;justify-content: center;background-color: white;position: relative;}#sk-container-id-4 div.sk-item::before, #sk-container-id-4 div.sk-parallel-item::before {content: \"\";position: absolute;border-left: 1px solid gray;box-sizing: border-box;top: 0;bottom: 0;left: 50%;z-index: -1;}#sk-container-id-4 div.sk-parallel-item {display: flex;flex-direction: column;z-index: 1;position: relative;background-color: white;}#sk-container-id-4 div.sk-parallel-item:first-child::after {align-self: flex-end;width: 50%;}#sk-container-id-4 div.sk-parallel-item:last-child::after {align-self: flex-start;width: 50%;}#sk-container-id-4 div.sk-parallel-item:only-child::after {width: 0;}#sk-container-id-4 div.sk-dashed-wrapped {border: 1px dashed gray;margin: 0 0.4em 0.5em 0.4em;box-sizing: border-box;padding-bottom: 0.4em;background-color: white;}#sk-container-id-4 div.sk-label label {font-family: monospace;font-weight: bold;display: inline-block;line-height: 1.2em;}#sk-container-id-4 div.sk-label-container {text-align: center;}#sk-container-id-4 div.sk-container {/* jupyter's `normalize.less` sets `[hidden] { display: none; }` but bootstrap.min.css set `[hidden] { display: none !important; }` so we also need the `!important` here to be able to override the default hidden behavior on the sphinx rendered scikit-learn.org. See: https://github.com/scikit-learn/scikit-learn/issues/21755 */display: inline-block !important;position: relative;}#sk-container-id-4 div.sk-text-repr-fallback {display: none;}</style><div id=\"sk-container-id-4\" class=\"sk-top-container\"><div class=\"sk-text-repr-fallback\"><pre>Pipeline(steps=[(&#x27;minmaxscaler&#x27;, MinMaxScaler()),\n",
              "                (&#x27;decisiontreeclassifier&#x27;, DecisionTreeClassifier())])</pre><b>In a Jupyter environment, please rerun this cell to show the HTML representation or trust the notebook. <br />On GitHub, the HTML representation is unable to render, please try loading this page with nbviewer.org.</b></div><div class=\"sk-container\" hidden><div class=\"sk-item sk-dashed-wrapped\"><div class=\"sk-label-container\"><div class=\"sk-label sk-toggleable\"><input class=\"sk-toggleable__control sk-hidden--visually\" id=\"sk-estimator-id-10\" type=\"checkbox\" ><label for=\"sk-estimator-id-10\" class=\"sk-toggleable__label sk-toggleable__label-arrow\">Pipeline</label><div class=\"sk-toggleable__content\"><pre>Pipeline(steps=[(&#x27;minmaxscaler&#x27;, MinMaxScaler()),\n",
              "                (&#x27;decisiontreeclassifier&#x27;, DecisionTreeClassifier())])</pre></div></div></div><div class=\"sk-serial\"><div class=\"sk-item\"><div class=\"sk-estimator sk-toggleable\"><input class=\"sk-toggleable__control sk-hidden--visually\" id=\"sk-estimator-id-11\" type=\"checkbox\" ><label for=\"sk-estimator-id-11\" class=\"sk-toggleable__label sk-toggleable__label-arrow\">MinMaxScaler</label><div class=\"sk-toggleable__content\"><pre>MinMaxScaler()</pre></div></div></div><div class=\"sk-item\"><div class=\"sk-estimator sk-toggleable\"><input class=\"sk-toggleable__control sk-hidden--visually\" id=\"sk-estimator-id-12\" type=\"checkbox\" ><label for=\"sk-estimator-id-12\" class=\"sk-toggleable__label sk-toggleable__label-arrow\">DecisionTreeClassifier</label><div class=\"sk-toggleable__content\"><pre>DecisionTreeClassifier()</pre></div></div></div></div></div></div></div>"
            ]
          },
          "metadata": {},
          "execution_count": 38
        }
      ]
    },
    {
      "cell_type": "code",
      "source": [
        "y_pred = dec_tree.predict(X_test)"
      ],
      "metadata": {
        "id": "_ktgYQnOO7Z8"
      },
      "execution_count": 39,
      "outputs": []
    },
    {
      "cell_type": "code",
      "source": [
        "print(classification_report(y_test, y_pred))"
      ],
      "metadata": {
        "colab": {
          "base_uri": "https://localhost:8080/"
        },
        "outputId": "6e6eeb04-dc77-44d0-a89b-bde9d7b5ca03",
        "id": "DHhae_XCO7Z8"
      },
      "execution_count": 40,
      "outputs": [
        {
          "output_type": "stream",
          "name": "stdout",
          "text": [
            "              precision    recall  f1-score   support\n",
            "\n",
            "           0       0.98      0.99      0.98      4650\n",
            "           1       0.99      0.97      0.98      4330\n",
            "\n",
            "    accuracy                           0.98      8980\n",
            "   macro avg       0.98      0.98      0.98      8980\n",
            "weighted avg       0.98      0.98      0.98      8980\n",
            "\n"
          ]
        }
      ]
    },
    {
      "cell_type": "markdown",
      "source": [
        "# **NAIVE BAYES**"
      ],
      "metadata": {
        "id": "YFBouekwPJnJ"
      }
    },
    {
      "cell_type": "code",
      "source": [
        "bayes = make_pipeline(MinMaxScaler(), MultinomialNB())"
      ],
      "metadata": {
        "id": "v6qF2vUJPJnJ"
      },
      "execution_count": 41,
      "outputs": []
    },
    {
      "cell_type": "code",
      "source": [
        "bayes.fit(X_train, y_train)"
      ],
      "metadata": {
        "colab": {
          "base_uri": "https://localhost:8080/",
          "height": 125
        },
        "outputId": "11ab714e-2a0b-445a-f1c5-998e7de01f70",
        "id": "nsWhTfO6PJnK"
      },
      "execution_count": 42,
      "outputs": [
        {
          "output_type": "execute_result",
          "data": {
            "text/plain": [
              "Pipeline(steps=[('minmaxscaler', MinMaxScaler()),\n",
              "                ('multinomialnb', MultinomialNB())])"
            ],
            "text/html": [
              "<style>#sk-container-id-5 {color: black;background-color: white;}#sk-container-id-5 pre{padding: 0;}#sk-container-id-5 div.sk-toggleable {background-color: white;}#sk-container-id-5 label.sk-toggleable__label {cursor: pointer;display: block;width: 100%;margin-bottom: 0;padding: 0.3em;box-sizing: border-box;text-align: center;}#sk-container-id-5 label.sk-toggleable__label-arrow:before {content: \"▸\";float: left;margin-right: 0.25em;color: #696969;}#sk-container-id-5 label.sk-toggleable__label-arrow:hover:before {color: black;}#sk-container-id-5 div.sk-estimator:hover label.sk-toggleable__label-arrow:before {color: black;}#sk-container-id-5 div.sk-toggleable__content {max-height: 0;max-width: 0;overflow: hidden;text-align: left;background-color: #f0f8ff;}#sk-container-id-5 div.sk-toggleable__content pre {margin: 0.2em;color: black;border-radius: 0.25em;background-color: #f0f8ff;}#sk-container-id-5 input.sk-toggleable__control:checked~div.sk-toggleable__content {max-height: 200px;max-width: 100%;overflow: auto;}#sk-container-id-5 input.sk-toggleable__control:checked~label.sk-toggleable__label-arrow:before {content: \"▾\";}#sk-container-id-5 div.sk-estimator input.sk-toggleable__control:checked~label.sk-toggleable__label {background-color: #d4ebff;}#sk-container-id-5 div.sk-label input.sk-toggleable__control:checked~label.sk-toggleable__label {background-color: #d4ebff;}#sk-container-id-5 input.sk-hidden--visually {border: 0;clip: rect(1px 1px 1px 1px);clip: rect(1px, 1px, 1px, 1px);height: 1px;margin: -1px;overflow: hidden;padding: 0;position: absolute;width: 1px;}#sk-container-id-5 div.sk-estimator {font-family: monospace;background-color: #f0f8ff;border: 1px dotted black;border-radius: 0.25em;box-sizing: border-box;margin-bottom: 0.5em;}#sk-container-id-5 div.sk-estimator:hover {background-color: #d4ebff;}#sk-container-id-5 div.sk-parallel-item::after {content: \"\";width: 100%;border-bottom: 1px solid gray;flex-grow: 1;}#sk-container-id-5 div.sk-label:hover label.sk-toggleable__label {background-color: #d4ebff;}#sk-container-id-5 div.sk-serial::before {content: \"\";position: absolute;border-left: 1px solid gray;box-sizing: border-box;top: 0;bottom: 0;left: 50%;z-index: 0;}#sk-container-id-5 div.sk-serial {display: flex;flex-direction: column;align-items: center;background-color: white;padding-right: 0.2em;padding-left: 0.2em;position: relative;}#sk-container-id-5 div.sk-item {position: relative;z-index: 1;}#sk-container-id-5 div.sk-parallel {display: flex;align-items: stretch;justify-content: center;background-color: white;position: relative;}#sk-container-id-5 div.sk-item::before, #sk-container-id-5 div.sk-parallel-item::before {content: \"\";position: absolute;border-left: 1px solid gray;box-sizing: border-box;top: 0;bottom: 0;left: 50%;z-index: -1;}#sk-container-id-5 div.sk-parallel-item {display: flex;flex-direction: column;z-index: 1;position: relative;background-color: white;}#sk-container-id-5 div.sk-parallel-item:first-child::after {align-self: flex-end;width: 50%;}#sk-container-id-5 div.sk-parallel-item:last-child::after {align-self: flex-start;width: 50%;}#sk-container-id-5 div.sk-parallel-item:only-child::after {width: 0;}#sk-container-id-5 div.sk-dashed-wrapped {border: 1px dashed gray;margin: 0 0.4em 0.5em 0.4em;box-sizing: border-box;padding-bottom: 0.4em;background-color: white;}#sk-container-id-5 div.sk-label label {font-family: monospace;font-weight: bold;display: inline-block;line-height: 1.2em;}#sk-container-id-5 div.sk-label-container {text-align: center;}#sk-container-id-5 div.sk-container {/* jupyter's `normalize.less` sets `[hidden] { display: none; }` but bootstrap.min.css set `[hidden] { display: none !important; }` so we also need the `!important` here to be able to override the default hidden behavior on the sphinx rendered scikit-learn.org. See: https://github.com/scikit-learn/scikit-learn/issues/21755 */display: inline-block !important;position: relative;}#sk-container-id-5 div.sk-text-repr-fallback {display: none;}</style><div id=\"sk-container-id-5\" class=\"sk-top-container\"><div class=\"sk-text-repr-fallback\"><pre>Pipeline(steps=[(&#x27;minmaxscaler&#x27;, MinMaxScaler()),\n",
              "                (&#x27;multinomialnb&#x27;, MultinomialNB())])</pre><b>In a Jupyter environment, please rerun this cell to show the HTML representation or trust the notebook. <br />On GitHub, the HTML representation is unable to render, please try loading this page with nbviewer.org.</b></div><div class=\"sk-container\" hidden><div class=\"sk-item sk-dashed-wrapped\"><div class=\"sk-label-container\"><div class=\"sk-label sk-toggleable\"><input class=\"sk-toggleable__control sk-hidden--visually\" id=\"sk-estimator-id-13\" type=\"checkbox\" ><label for=\"sk-estimator-id-13\" class=\"sk-toggleable__label sk-toggleable__label-arrow\">Pipeline</label><div class=\"sk-toggleable__content\"><pre>Pipeline(steps=[(&#x27;minmaxscaler&#x27;, MinMaxScaler()),\n",
              "                (&#x27;multinomialnb&#x27;, MultinomialNB())])</pre></div></div></div><div class=\"sk-serial\"><div class=\"sk-item\"><div class=\"sk-estimator sk-toggleable\"><input class=\"sk-toggleable__control sk-hidden--visually\" id=\"sk-estimator-id-14\" type=\"checkbox\" ><label for=\"sk-estimator-id-14\" class=\"sk-toggleable__label sk-toggleable__label-arrow\">MinMaxScaler</label><div class=\"sk-toggleable__content\"><pre>MinMaxScaler()</pre></div></div></div><div class=\"sk-item\"><div class=\"sk-estimator sk-toggleable\"><input class=\"sk-toggleable__control sk-hidden--visually\" id=\"sk-estimator-id-15\" type=\"checkbox\" ><label for=\"sk-estimator-id-15\" class=\"sk-toggleable__label sk-toggleable__label-arrow\">MultinomialNB</label><div class=\"sk-toggleable__content\"><pre>MultinomialNB()</pre></div></div></div></div></div></div></div>"
            ]
          },
          "metadata": {},
          "execution_count": 42
        }
      ]
    },
    {
      "cell_type": "code",
      "source": [
        "y_pred = bayes.predict(X_test)"
      ],
      "metadata": {
        "id": "-wT2uLvPPJnK"
      },
      "execution_count": 43,
      "outputs": []
    },
    {
      "cell_type": "code",
      "source": [
        "print(classification_report(y_test, y_pred))"
      ],
      "metadata": {
        "colab": {
          "base_uri": "https://localhost:8080/"
        },
        "outputId": "971ede87-17df-4f56-c7f1-c39db55f9702",
        "id": "cfK3wKJdPJnL"
      },
      "execution_count": 44,
      "outputs": [
        {
          "output_type": "stream",
          "name": "stdout",
          "text": [
            "              precision    recall  f1-score   support\n",
            "\n",
            "           0       0.98      0.98      0.98      4650\n",
            "           1       0.98      0.97      0.98      4330\n",
            "\n",
            "    accuracy                           0.98      8980\n",
            "   macro avg       0.98      0.98      0.98      8980\n",
            "weighted avg       0.98      0.98      0.98      8980\n",
            "\n"
          ]
        }
      ]
    },
    {
      "cell_type": "markdown",
      "source": [
        "# **SUPPORT VECTOR MACHINES**"
      ],
      "metadata": {
        "id": "tETRfju8Pd15"
      }
    },
    {
      "cell_type": "code",
      "source": [
        "svm = make_pipeline(MinMaxScaler(), SVC())"
      ],
      "metadata": {
        "id": "O9ySAfe-Pd1_"
      },
      "execution_count": 45,
      "outputs": []
    },
    {
      "cell_type": "code",
      "source": [
        "svm.fit(X_train, y_train)"
      ],
      "metadata": {
        "colab": {
          "base_uri": "https://localhost:8080/",
          "height": 125
        },
        "outputId": "8a25ba78-d4f6-4d7c-8f7a-52cc278348f6",
        "id": "jPY8boYqPd1_"
      },
      "execution_count": 46,
      "outputs": [
        {
          "output_type": "execute_result",
          "data": {
            "text/plain": [
              "Pipeline(steps=[('minmaxscaler', MinMaxScaler()), ('svc', SVC())])"
            ],
            "text/html": [
              "<style>#sk-container-id-6 {color: black;background-color: white;}#sk-container-id-6 pre{padding: 0;}#sk-container-id-6 div.sk-toggleable {background-color: white;}#sk-container-id-6 label.sk-toggleable__label {cursor: pointer;display: block;width: 100%;margin-bottom: 0;padding: 0.3em;box-sizing: border-box;text-align: center;}#sk-container-id-6 label.sk-toggleable__label-arrow:before {content: \"▸\";float: left;margin-right: 0.25em;color: #696969;}#sk-container-id-6 label.sk-toggleable__label-arrow:hover:before {color: black;}#sk-container-id-6 div.sk-estimator:hover label.sk-toggleable__label-arrow:before {color: black;}#sk-container-id-6 div.sk-toggleable__content {max-height: 0;max-width: 0;overflow: hidden;text-align: left;background-color: #f0f8ff;}#sk-container-id-6 div.sk-toggleable__content pre {margin: 0.2em;color: black;border-radius: 0.25em;background-color: #f0f8ff;}#sk-container-id-6 input.sk-toggleable__control:checked~div.sk-toggleable__content {max-height: 200px;max-width: 100%;overflow: auto;}#sk-container-id-6 input.sk-toggleable__control:checked~label.sk-toggleable__label-arrow:before {content: \"▾\";}#sk-container-id-6 div.sk-estimator input.sk-toggleable__control:checked~label.sk-toggleable__label {background-color: #d4ebff;}#sk-container-id-6 div.sk-label input.sk-toggleable__control:checked~label.sk-toggleable__label {background-color: #d4ebff;}#sk-container-id-6 input.sk-hidden--visually {border: 0;clip: rect(1px 1px 1px 1px);clip: rect(1px, 1px, 1px, 1px);height: 1px;margin: -1px;overflow: hidden;padding: 0;position: absolute;width: 1px;}#sk-container-id-6 div.sk-estimator {font-family: monospace;background-color: #f0f8ff;border: 1px dotted black;border-radius: 0.25em;box-sizing: border-box;margin-bottom: 0.5em;}#sk-container-id-6 div.sk-estimator:hover {background-color: #d4ebff;}#sk-container-id-6 div.sk-parallel-item::after {content: \"\";width: 100%;border-bottom: 1px solid gray;flex-grow: 1;}#sk-container-id-6 div.sk-label:hover label.sk-toggleable__label {background-color: #d4ebff;}#sk-container-id-6 div.sk-serial::before {content: \"\";position: absolute;border-left: 1px solid gray;box-sizing: border-box;top: 0;bottom: 0;left: 50%;z-index: 0;}#sk-container-id-6 div.sk-serial {display: flex;flex-direction: column;align-items: center;background-color: white;padding-right: 0.2em;padding-left: 0.2em;position: relative;}#sk-container-id-6 div.sk-item {position: relative;z-index: 1;}#sk-container-id-6 div.sk-parallel {display: flex;align-items: stretch;justify-content: center;background-color: white;position: relative;}#sk-container-id-6 div.sk-item::before, #sk-container-id-6 div.sk-parallel-item::before {content: \"\";position: absolute;border-left: 1px solid gray;box-sizing: border-box;top: 0;bottom: 0;left: 50%;z-index: -1;}#sk-container-id-6 div.sk-parallel-item {display: flex;flex-direction: column;z-index: 1;position: relative;background-color: white;}#sk-container-id-6 div.sk-parallel-item:first-child::after {align-self: flex-end;width: 50%;}#sk-container-id-6 div.sk-parallel-item:last-child::after {align-self: flex-start;width: 50%;}#sk-container-id-6 div.sk-parallel-item:only-child::after {width: 0;}#sk-container-id-6 div.sk-dashed-wrapped {border: 1px dashed gray;margin: 0 0.4em 0.5em 0.4em;box-sizing: border-box;padding-bottom: 0.4em;background-color: white;}#sk-container-id-6 div.sk-label label {font-family: monospace;font-weight: bold;display: inline-block;line-height: 1.2em;}#sk-container-id-6 div.sk-label-container {text-align: center;}#sk-container-id-6 div.sk-container {/* jupyter's `normalize.less` sets `[hidden] { display: none; }` but bootstrap.min.css set `[hidden] { display: none !important; }` so we also need the `!important` here to be able to override the default hidden behavior on the sphinx rendered scikit-learn.org. See: https://github.com/scikit-learn/scikit-learn/issues/21755 */display: inline-block !important;position: relative;}#sk-container-id-6 div.sk-text-repr-fallback {display: none;}</style><div id=\"sk-container-id-6\" class=\"sk-top-container\"><div class=\"sk-text-repr-fallback\"><pre>Pipeline(steps=[(&#x27;minmaxscaler&#x27;, MinMaxScaler()), (&#x27;svc&#x27;, SVC())])</pre><b>In a Jupyter environment, please rerun this cell to show the HTML representation or trust the notebook. <br />On GitHub, the HTML representation is unable to render, please try loading this page with nbviewer.org.</b></div><div class=\"sk-container\" hidden><div class=\"sk-item sk-dashed-wrapped\"><div class=\"sk-label-container\"><div class=\"sk-label sk-toggleable\"><input class=\"sk-toggleable__control sk-hidden--visually\" id=\"sk-estimator-id-16\" type=\"checkbox\" ><label for=\"sk-estimator-id-16\" class=\"sk-toggleable__label sk-toggleable__label-arrow\">Pipeline</label><div class=\"sk-toggleable__content\"><pre>Pipeline(steps=[(&#x27;minmaxscaler&#x27;, MinMaxScaler()), (&#x27;svc&#x27;, SVC())])</pre></div></div></div><div class=\"sk-serial\"><div class=\"sk-item\"><div class=\"sk-estimator sk-toggleable\"><input class=\"sk-toggleable__control sk-hidden--visually\" id=\"sk-estimator-id-17\" type=\"checkbox\" ><label for=\"sk-estimator-id-17\" class=\"sk-toggleable__label sk-toggleable__label-arrow\">MinMaxScaler</label><div class=\"sk-toggleable__content\"><pre>MinMaxScaler()</pre></div></div></div><div class=\"sk-item\"><div class=\"sk-estimator sk-toggleable\"><input class=\"sk-toggleable__control sk-hidden--visually\" id=\"sk-estimator-id-18\" type=\"checkbox\" ><label for=\"sk-estimator-id-18\" class=\"sk-toggleable__label sk-toggleable__label-arrow\">SVC</label><div class=\"sk-toggleable__content\"><pre>SVC()</pre></div></div></div></div></div></div></div>"
            ]
          },
          "metadata": {},
          "execution_count": 46
        }
      ]
    },
    {
      "cell_type": "code",
      "source": [
        "y_pred = svm.predict(X_test)"
      ],
      "metadata": {
        "id": "iiwUF-qsPd1_"
      },
      "execution_count": 47,
      "outputs": []
    },
    {
      "cell_type": "code",
      "source": [
        "print(classification_report(y_test, y_pred))"
      ],
      "metadata": {
        "colab": {
          "base_uri": "https://localhost:8080/"
        },
        "outputId": "bf1dd229-e87d-4d4c-b5f0-c118e395f5ef",
        "id": "Ar4H5lx4Pd1_"
      },
      "execution_count": 48,
      "outputs": [
        {
          "output_type": "stream",
          "name": "stdout",
          "text": [
            "              precision    recall  f1-score   support\n",
            "\n",
            "           0       1.00      1.00      1.00      4650\n",
            "           1       1.00      1.00      1.00      4330\n",
            "\n",
            "    accuracy                           1.00      8980\n",
            "   macro avg       1.00      1.00      1.00      8980\n",
            "weighted avg       1.00      1.00      1.00      8980\n",
            "\n"
          ]
        }
      ]
    }
  ]
}